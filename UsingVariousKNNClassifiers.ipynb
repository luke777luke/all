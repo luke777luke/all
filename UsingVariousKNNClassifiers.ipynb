{
 "cells": [
  {
   "cell_type": "code",
   "execution_count": 5,
   "id": "6d0e0586",
   "metadata": {},
   "outputs": [],
   "source": [
    "import numpy as np\n",
    "import pandas as pd\n",
    "import matplotlib.pyplot as plt\n",
    "from collections import Counter\n",
    "%matplotlib inline"
   ]
  },
  {
   "cell_type": "code",
   "execution_count": null,
   "id": "5fe914d0",
   "metadata": {},
   "outputs": [],
   "source": [
    "#Lukasz (Luke) Grzybek DSC478"
   ]
  },
  {
   "cell_type": "code",
   "execution_count": 6,
   "id": "1fc91ac0",
   "metadata": {},
   "outputs": [],
   "source": [
    "trainmatrix = pd.read_table(\"C:\\\\Users\\\\Luke\\\\Desktop\\\\newsgroups\\\\trainMatrixModified.txt\", sep=\"\\t\", header=None)\n",
    "testmatrix = pd.read_table(\"C:\\\\Users\\\\Luke\\\\Desktop\\\\newsgroups\\\\testMatrixModified.txt\", sep=\"\\t\", header=None)\n",
    "trainClasses = pd.read_table(\"C:\\\\Users\\\\Luke\\\\Desktop\\\\newsgroups\\\\trainClasses.txt\", sep=\"\\t\", header=None, index_col = 0)\n",
    "testClasses = pd.read_table(\"C:\\\\Users\\\\Luke\\\\Desktop\\\\newsgroups\\\\testClasses.txt\", sep=\"\\t\", header=None,index_col = 0)\n",
    "terms = pd.read_table(\"C:\\\\Users\\\\Luke\\\\Desktop\\\\newsgroups\\\\modifiedterms.txt\", sep=\"\\t\", header=None)"
   ]
  },
  {
   "cell_type": "code",
   "execution_count": 7,
   "id": "48f68b7b",
   "metadata": {},
   "outputs": [
    {
     "data": {
      "text/plain": [
       "(800, 5500)"
      ]
     },
     "execution_count": 7,
     "metadata": {},
     "output_type": "execute_result"
    }
   ],
   "source": [
    "trainmatrix = np.array(trainmatrix)\n",
    "trainmatrix = trainmatrix.T\n",
    "trainmatrix.shape\n"
   ]
  },
  {
   "cell_type": "code",
   "execution_count": 8,
   "id": "740be1ad",
   "metadata": {},
   "outputs": [
    {
     "data": {
      "text/plain": [
       "(200, 5500)"
      ]
     },
     "execution_count": 8,
     "metadata": {},
     "output_type": "execute_result"
    }
   ],
   "source": [
    "testmatrix = np.array(testmatrix)\n",
    "testmatrix = testmatrix.T\n",
    "testmatrix.shape\n"
   ]
  },
  {
   "cell_type": "code",
   "execution_count": 9,
   "id": "ca8e228d",
   "metadata": {},
   "outputs": [
    {
     "data": {
      "text/plain": [
       "(800,)"
      ]
     },
     "execution_count": 9,
     "metadata": {},
     "output_type": "execute_result"
    }
   ],
   "source": [
    "trainClasses = np.array(trainClasses).flatten()\n",
    "trainClasses.shape"
   ]
  },
  {
   "cell_type": "code",
   "execution_count": 10,
   "id": "5ea7ba94",
   "metadata": {},
   "outputs": [
    {
     "data": {
      "text/plain": [
       "(200,)"
      ]
     },
     "execution_count": 10,
     "metadata": {},
     "output_type": "execute_result"
    }
   ],
   "source": [
    "testClasses = np.array(testClasses).flatten()\n",
    "testClasses.shape"
   ]
  },
  {
   "cell_type": "code",
   "execution_count": 8,
   "id": "c1a19289",
   "metadata": {},
   "outputs": [],
   "source": [
    "#a\n",
    "def knn(trainmatrix,trainlabels,instance,k,distance):\n",
    "    measure = 0\n",
    "    if distance == 0:\n",
    "        measure = np.sqrt(np.sum((trainmatrix-instance)**2,axis=1))\n",
    "    elif distance == 1:\n",
    "        num = np.dot(trainmatrix,instance)\n",
    "        distances = []\n",
    "        for i in range(len(trainmatrix)):\n",
    "           \n",
    "            tmnorm = np.linalg.norm(trainmatrix[i])\n",
    "            den = tmnorm * np.linalg.norm(instance)\n",
    "            dist = 1 - (num/den)\n",
    "            distances.append(dist)\n",
    "        measure = distances[0]\n",
    "    index = np.argsort(measure)\n",
    "    nlabels = trainClasses[index[0:k]]\n",
    "    count = Counter(nlabels)\n",
    "    predicted = count.most_common(1)[0][0]\n",
    "\n",
    "\n",
    "\n",
    "    return index[0:k], predicted\n",
    "\n",
    "\n",
    "    "
   ]
  },
  {
   "cell_type": "code",
   "execution_count": 9,
   "id": "a3defdb3",
   "metadata": {},
   "outputs": [],
   "source": [
    "neigh_idx, pclass = knn(trainmatrix,trainClasses,testmatrix[7],5,0)"
   ]
  },
  {
   "cell_type": "code",
   "execution_count": 10,
   "id": "6eb033b4",
   "metadata": {},
   "outputs": [
    {
     "data": {
      "text/plain": [
       "array([798, 757, 743,  38, 224], dtype=int64)"
      ]
     },
     "execution_count": 10,
     "metadata": {},
     "output_type": "execute_result"
    }
   ],
   "source": [
    "neigh_idx"
   ]
  },
  {
   "cell_type": "code",
   "execution_count": 11,
   "id": "f40d1bf9",
   "metadata": {},
   "outputs": [
    {
     "data": {
      "text/plain": [
       "1"
      ]
     },
     "execution_count": 11,
     "metadata": {},
     "output_type": "execute_result"
    }
   ],
   "source": [
    "pclass"
   ]
  },
  {
   "cell_type": "code",
   "execution_count": 12,
   "id": "47e4896f",
   "metadata": {},
   "outputs": [],
   "source": [
    "#b\n",
    "def evalknn(trainmatrix,trainlabels,testmatrix,testClasses,k,measure):\n",
    "    c = 0\n",
    "    predlabels = []\n",
    "    for instance in testmatrix:\n",
    "        neigh_idx, pred_label = knn(trainmatrix,trainlabels,instance,k,measure)\n",
    "        predlabels.append(pred_label)\n",
    "    predlabels = np.array(predlabels)\n",
    "    for i in range(len(predlabels)):\n",
    "        if predlabels[i] == testClasses[i]:\n",
    "            c += 1\n",
    "    accuracy = c/len(testClasses)\n",
    "    \n",
    "    return accuracy\n",
    "        "
   ]
  },
  {
   "cell_type": "code",
   "execution_count": 13,
   "id": "3511c565",
   "metadata": {},
   "outputs": [],
   "source": [
    "a = evalknn(trainmatrix, trainClasses, testmatrix,testClasses,5,0)\n",
    "        \n",
    "        "
   ]
  },
  {
   "cell_type": "code",
   "execution_count": 14,
   "id": "1337d924",
   "metadata": {},
   "outputs": [
    {
     "data": {
      "text/plain": [
       "0.815"
      ]
     },
     "execution_count": 14,
     "metadata": {},
     "output_type": "execute_result"
    }
   ],
   "source": [
    "a"
   ]
  },
  {
   "cell_type": "code",
   "execution_count": 15,
   "id": "624a0965",
   "metadata": {},
   "outputs": [
    {
     "name": "stdout",
     "output_type": "stream",
     "text": [
      "0.815\n",
      "0.85\n",
      "0.785\n",
      "0.765\n",
      "0.73\n",
      "0.725\n",
      "0.69\n",
      "0.7\n",
      "0.655\n",
      "0.67\n",
      "0.655\n",
      "0.66\n",
      "0.625\n",
      "0.625\n",
      "0.63\n",
      "0.615\n",
      "0.615\n",
      "0.61\n",
      "0.605\n",
      "0.605\n",
      "0.625\n",
      "0.71\n",
      "0.955\n",
      "0.955\n",
      "0.96\n",
      "0.97\n",
      "0.975\n",
      "0.98\n",
      "0.98\n",
      "0.98\n",
      "0.98\n",
      "0.98\n",
      "0.98\n",
      "0.98\n",
      "0.975\n",
      "0.975\n",
      "0.975\n",
      "0.975\n",
      "0.98\n",
      "0.975\n"
     ]
    },
    {
     "data": {
      "text/plain": [
       "<matplotlib.legend.Legend at 0x1dc7e1c3a50>"
      ]
     },
     "execution_count": 15,
     "metadata": {},
     "output_type": "execute_result"
    },
    {
     "data": {
      "image/png": "[encoded data removed]",
      "text/plain": [
       "<Figure size 640x480 with 1 Axes>"
      ]
     },
     "metadata": {},
     "output_type": "display_data"
    }
   ],
   "source": [
    "#c\n",
    "ktests = np.linspace(5,100,20)\n",
    "plt.figure()\n",
    "\n",
    "\n",
    "euclidean = []\n",
    "#euclidean distance\n",
    "for k in ktests:\n",
    "    k = int(k)\n",
    "    a = evalknn(trainmatrix, trainClasses, testmatrix,testClasses,k,0)\n",
    "    print(a)\n",
    "    euclidean.append(a)\n",
    "\n",
    "euclidean = np.array(euclidean)   \n",
    "plt.plot(ktests,euclidean,'ro',label = 'Euclidean')\n",
    "\n",
    "#cosine similarity \n",
    "\n",
    "cs = []\n",
    "#cosine similarity \n",
    "for k in ktests:\n",
    "    k = int(k)\n",
    "    b = evalknn(trainmatrix, trainClasses, testmatrix,testClasses,k,1)\n",
    "    print(b)\n",
    "    cs.append(b)\n",
    "\n",
    "cs = np.array(cs)   \n",
    "plt.plot(ktests,cs,'go',label = 'Cosine Similarity')\n",
    "\n",
    "\n",
    "plt.grid(linestyle='--',color=[.8,.8,.8])\n",
    "plt.xlabel('k values')\n",
    "plt.ylabel('Accuracy')\n",
    "plt.title('Accuracy of KNN Evaluation Between Different Distance Measures')\n",
    "plt.legend()"
   ]
  },
  {
   "cell_type": "code",
   "execution_count": 16,
   "id": "984acf3d",
   "metadata": {},
   "outputs": [
    {
     "name": "stdout",
     "output_type": "stream",
     "text": [
      "[[11.62101212 11.62101212 11.62101212 ...  0.          0.\n",
      "   0.        ]\n",
      " [ 0.          0.          0.         ...  0.          0.\n",
      "   0.        ]\n",
      " [ 0.          0.          0.         ...  0.          0.\n",
      "   0.        ]\n",
      " ...\n",
      " [ 0.          0.          0.         ...  0.          0.\n",
      "   0.        ]\n",
      " [ 0.          0.          0.         ...  0.          0.\n",
      "   0.        ]\n",
      " [ 0.          0.          0.         ...  0.          0.\n",
      "   0.        ]]\n",
      "[[0.         0.         0.         ... 0.         0.         0.        ]\n",
      " [0.         0.         0.         ... 0.         0.         0.        ]\n",
      " [6.99895115 0.         0.         ... 0.         0.         0.        ]\n",
      " ...\n",
      " [0.         0.         0.         ... 0.         0.         0.        ]\n",
      " [0.         0.         0.         ... 0.         0.         0.        ]\n",
      " [0.         0.         0.         ... 0.         0.         0.        ]]\n"
     ]
    }
   ],
   "source": [
    "#d\n",
    "\n",
    "traindf = pd.DataFrame([(trainmatrix!=0).sum(1)]).T\n",
    "Ntrain=np.ones(np.shape(trainmatrix), dtype=float)*trainmatrix.shape[1]\n",
    "IDF = np.log2(np.divide(Ntrain, np.array(traindf)))\n",
    "TD_tfidf_train = trainmatrix * IDF\n",
    "print(TD_tfidf_train)\n",
    "\n",
    "test_tfidf = []\n",
    "for i in range(len(testmatrix)):\n",
    "    tests = testmatrix[i] * IDF[i]\n",
    "    test_tfidf.append(tests)\n",
    "\n",
    "test_tfidf = np.array(test_tfidf)\n",
    "print(test_tfidf)"
   ]
  },
  {
   "cell_type": "code",
   "execution_count": 187,
   "id": "1922a14b",
   "metadata": {},
   "outputs": [],
   "source": []
  },
  {
   "cell_type": "code",
   "execution_count": 17,
   "id": "c83f1ad3",
   "metadata": {},
   "outputs": [
    {
     "name": "stdout",
     "output_type": "stream",
     "text": [
      "0.85\n",
      "0.9\n",
      "0.97\n",
      "0.965\n",
      "0.965\n",
      "0.97\n",
      "0.98\n",
      "0.975\n",
      "0.98\n",
      "0.975\n",
      "0.975\n",
      "0.98\n",
      "0.98\n",
      "0.98\n",
      "0.98\n",
      "0.975\n",
      "0.98\n",
      "0.98\n",
      "0.98\n",
      "0.975\n"
     ]
    },
    {
     "data": {
      "text/plain": [
       "<matplotlib.legend.Legend at 0x1dc1f63af10>"
      ]
     },
     "execution_count": 17,
     "metadata": {},
     "output_type": "execute_result"
    },
    {
     "data": {
      "image/png": "[encoded data removed]",
      "text/plain": [
       "<Figure size 640x480 with 1 Axes>"
      ]
     },
     "metadata": {},
     "output_type": "display_data"
    }
   ],
   "source": [
    "\n",
    "ktests = np.linspace(5,100,20)\n",
    "plt.figure()\n",
    "\n",
    "\n",
    "cs_TFxIDF = []\n",
    "\n",
    "for k in ktests:\n",
    "    k = int(k)\n",
    "    c = evalknn(TD_tfidf_train, trainClasses, test_tfidf,testClasses,k,1)\n",
    "    print(c)\n",
    "    cs_TFxIDF.append(c)\n",
    "\n",
    "cs_TFxIDF = np.array(cs_TFxIDF)   \n",
    "plt.plot(ktests,cs,'go',label = 'Without TFxIDF weights')\n",
    "plt.plot(ktests,cs_TFxIDF,'ko',label = 'TFxIDF weights')\n",
    "\n",
    "\n",
    "\n",
    "plt.grid(linestyle='--',color=[.8,.8,.8])\n",
    "plt.xlabel('k values')\n",
    "plt.ylabel('Accuracy')\n",
    "plt.title('Accuracy of KNN Evaluation Cosine Similarity with and without using TFxIDF weights')\n",
    "plt.legend()"
   ]
  },
  {
   "cell_type": "code",
   "execution_count": 18,
   "id": "6c1a42da",
   "metadata": {},
   "outputs": [],
   "source": [
    "#e\n",
    "\n",
    "def Rocchio_Train(train, labels):\n",
    "    p = np.zeros((len(np.unique(labels)),train.shape[1]))\n",
    "    for x in train[labels==0]:\n",
    "        p[0] += x\n",
    "    for z in train[labels==1]:\n",
    "        p[1] += z\n",
    "    return p\n"
   ]
  },
  {
   "cell_type": "code",
   "execution_count": 19,
   "id": "e9f0af8a",
   "metadata": {},
   "outputs": [],
   "source": [
    "proto = Rocchio_Train(TD_tfidf_train, trainClasses)"
   ]
  },
  {
   "cell_type": "code",
   "execution_count": 20,
   "id": "080d73c5",
   "metadata": {},
   "outputs": [
    {
     "data": {
      "text/plain": [
       "(2, 5500)"
      ]
     },
     "execution_count": 20,
     "metadata": {},
     "output_type": "execute_result"
    }
   ],
   "source": [
    "proto.shape"
   ]
  },
  {
   "cell_type": "code",
   "execution_count": 21,
   "id": "38cce9c6",
   "metadata": {},
   "outputs": [],
   "source": [
    "def Rocchio_classifier(prototype, testmatrix):  \n",
    "    sims = np.zeros([prototype.shape[0],testmatrix.shape[0]])\n",
    "    m = -2\n",
    "    for p in range(prototype.shape[0]):\n",
    "        for i in range(testmatrix.shape[0]):\n",
    "            num = np.dot(prototype[p],testmatrix[i])\n",
    "            den = np.linalg.norm(prototype[p]) * np.linalg.norm(testmatrix[i])\n",
    "            sim = num/den\n",
    "            if sim > -2:\n",
    "                m = sim\n",
    "                sims[p,i] += m\n",
    "            else:\n",
    "                sims[p,i] += m\n",
    "    sims = sims.T\n",
    "    indexes = np.zeros([sims.shape[0],1])\n",
    "    \n",
    "    for r in range(sims.shape[0]):\n",
    "        a =  np.argmax(sims[r])\n",
    "        indexes[r,0] += a\n",
    "    pred_labels = np.int32(indexes)\n",
    "\n",
    "\n",
    "\n",
    "    return sims, pred_labels"
   ]
  },
  {
   "cell_type": "code",
   "execution_count": 22,
   "id": "3239d07a",
   "metadata": {},
   "outputs": [],
   "source": [
    "sims, pred_labels = Rocchio_classifier(proto, test_tfidf)"
   ]
  },
  {
   "cell_type": "code",
   "execution_count": 23,
   "id": "c810bfbd",
   "metadata": {},
   "outputs": [
    {
     "data": {
      "text/plain": [
       "array([[1],\n",
       "       [0],\n",
       "       [1],\n",
       "       [1],\n",
       "       [1],\n",
       "       [0],\n",
       "       [1],\n",
       "       [1],\n",
       "       [0],\n",
       "       [1],\n",
       "       [0],\n",
       "       [1],\n",
       "       [0],\n",
       "       [0],\n",
       "       [1],\n",
       "       [1],\n",
       "       [0],\n",
       "       [0],\n",
       "       [0],\n",
       "       [0],\n",
       "       [0],\n",
       "       [0],\n",
       "       [0],\n",
       "       [0],\n",
       "       [1],\n",
       "       [1],\n",
       "       [1],\n",
       "       [0],\n",
       "       [1],\n",
       "       [0],\n",
       "       [1],\n",
       "       [0],\n",
       "       [0],\n",
       "       [0],\n",
       "       [1],\n",
       "       [0],\n",
       "       [0],\n",
       "       [1],\n",
       "       [0],\n",
       "       [1],\n",
       "       [0],\n",
       "       [0],\n",
       "       [1],\n",
       "       [0],\n",
       "       [0],\n",
       "       [1],\n",
       "       [1],\n",
       "       [0],\n",
       "       [0],\n",
       "       [0],\n",
       "       [1],\n",
       "       [1],\n",
       "       [0],\n",
       "       [1],\n",
       "       [0],\n",
       "       [0],\n",
       "       [1],\n",
       "       [1],\n",
       "       [1],\n",
       "       [1],\n",
       "       [0],\n",
       "       [0],\n",
       "       [1],\n",
       "       [0],\n",
       "       [1],\n",
       "       [0],\n",
       "       [0],\n",
       "       [1],\n",
       "       [1],\n",
       "       [0],\n",
       "       [1],\n",
       "       [1],\n",
       "       [0],\n",
       "       [0],\n",
       "       [0],\n",
       "       [0],\n",
       "       [0],\n",
       "       [1],\n",
       "       [0],\n",
       "       [1],\n",
       "       [0],\n",
       "       [1],\n",
       "       [0],\n",
       "       [0],\n",
       "       [1],\n",
       "       [0],\n",
       "       [0],\n",
       "       [1],\n",
       "       [0],\n",
       "       [0],\n",
       "       [0],\n",
       "       [1],\n",
       "       [1],\n",
       "       [0],\n",
       "       [1],\n",
       "       [0],\n",
       "       [0],\n",
       "       [0],\n",
       "       [1],\n",
       "       [1],\n",
       "       [1],\n",
       "       [0],\n",
       "       [1],\n",
       "       [1],\n",
       "       [0],\n",
       "       [1],\n",
       "       [1],\n",
       "       [0],\n",
       "       [0],\n",
       "       [1],\n",
       "       [1],\n",
       "       [1],\n",
       "       [0],\n",
       "       [1],\n",
       "       [1],\n",
       "       [0],\n",
       "       [0],\n",
       "       [1],\n",
       "       [0],\n",
       "       [1],\n",
       "       [0],\n",
       "       [0],\n",
       "       [1],\n",
       "       [1],\n",
       "       [0],\n",
       "       [1],\n",
       "       [1],\n",
       "       [0],\n",
       "       [1],\n",
       "       [1],\n",
       "       [0],\n",
       "       [1],\n",
       "       [1],\n",
       "       [1],\n",
       "       [1],\n",
       "       [0],\n",
       "       [0],\n",
       "       [0],\n",
       "       [1],\n",
       "       [0],\n",
       "       [0],\n",
       "       [1],\n",
       "       [0],\n",
       "       [0],\n",
       "       [1],\n",
       "       [0],\n",
       "       [1],\n",
       "       [0],\n",
       "       [0],\n",
       "       [1],\n",
       "       [1],\n",
       "       [1],\n",
       "       [0],\n",
       "       [0],\n",
       "       [1],\n",
       "       [0],\n",
       "       [0],\n",
       "       [0],\n",
       "       [0],\n",
       "       [1],\n",
       "       [1],\n",
       "       [1],\n",
       "       [0],\n",
       "       [0],\n",
       "       [0],\n",
       "       [1],\n",
       "       [0],\n",
       "       [0],\n",
       "       [1],\n",
       "       [0],\n",
       "       [1],\n",
       "       [1],\n",
       "       [1],\n",
       "       [0],\n",
       "       [1],\n",
       "       [1],\n",
       "       [0],\n",
       "       [1],\n",
       "       [0],\n",
       "       [1],\n",
       "       [1],\n",
       "       [1],\n",
       "       [1],\n",
       "       [0],\n",
       "       [1],\n",
       "       [0],\n",
       "       [1],\n",
       "       [0],\n",
       "       [1],\n",
       "       [1],\n",
       "       [0],\n",
       "       [0],\n",
       "       [0],\n",
       "       [0],\n",
       "       [0],\n",
       "       [1],\n",
       "       [1],\n",
       "       [0],\n",
       "       [1],\n",
       "       [1]])"
      ]
     },
     "execution_count": 23,
     "metadata": {},
     "output_type": "execute_result"
    }
   ],
   "source": [
    "pred_labels"
   ]
  },
  {
   "cell_type": "code",
   "execution_count": 24,
   "id": "ed7f1508",
   "metadata": {},
   "outputs": [],
   "source": [
    "\n",
    "def rocchio_evaluate(testmatrix, test_lab, prototype):\n",
    "    sims, pred_labels = Rocchio_classifier(prototype, testmatrix)\n",
    "    c = 0\n",
    "    for i in range(len(pred_labels)):\n",
    "        if pred_labels[i] == test_lab[i]:\n",
    "            c += 1\n",
    "    accuracy = c/len(test_lab)\n",
    "    return accuracy"
   ]
  },
  {
   "cell_type": "code",
   "execution_count": 25,
   "id": "bbca6baf",
   "metadata": {},
   "outputs": [],
   "source": [
    "a = rocchio_evaluate(test_tfidf, testClasses, proto)"
   ]
  },
  {
   "cell_type": "code",
   "execution_count": 26,
   "id": "9a0f679b",
   "metadata": {},
   "outputs": [
    {
     "data": {
      "text/plain": [
       "0.96"
      ]
     },
     "execution_count": 26,
     "metadata": {},
     "output_type": "execute_result"
    }
   ],
   "source": [
    "a"
   ]
  },
  {
   "cell_type": "code",
   "execution_count": 27,
   "id": "b41d86fe",
   "metadata": {},
   "outputs": [
    {
     "name": "stdout",
     "output_type": "stream",
     "text": [
      "(20,)\n"
     ]
    },
    {
     "data": {
      "text/plain": [
       "<matplotlib.legend.Legend at 0x1dc1f713890>"
      ]
     },
     "execution_count": 27,
     "metadata": {},
     "output_type": "execute_result"
    },
    {
     "data": {
      "image/png": "[encoded data removed]",
      "text/plain": [
       "<Figure size 640x480 with 1 Axes>"
      ]
     },
     "metadata": {},
     "output_type": "display_data"
    }
   ],
   "source": [
    "plt.figure()\n",
    "\n",
    "rocchio = np.zeros([20])\n",
    "for x in range(len(rocchio)):\n",
    "    rocchio[x] += a\n",
    "print(rocchio.shape)\n",
    " \n",
    "plt.plot(ktests,cs,'go',label = 'Without TFxIDF weights')\n",
    "plt.plot(ktests,cs_TFxIDF,'ro',label = 'TFxIDF weights')\n",
    "plt.plot(ktests,rocchio,'bo',label = 'Rocchio')\n",
    "\n",
    "\n",
    "\n",
    "plt.grid(linestyle='--',color=[.8,.8,.8])\n",
    "plt.xlabel('k values')\n",
    "plt.ylabel('Accuracy')\n",
    "plt.title('Accuracy of KNN Evaluation using Cosine Similarity')\n",
    "plt.legend()"
   ]
  },
  {
   "cell_type": "markdown",
   "id": "516bba0e",
   "metadata": {},
   "source": [
    "With an accuracy score of 0.96, the Rocchio performed slightly worse than most of the time (regardless of k value used) the data was evaluated using regular KNN with and without TFxIDF weights, as those accuracy scores usually ranged between 0.965 and 0.98."
   ]
  },
  {
   "cell_type": "code",
   "execution_count": 53,
   "id": "81fdcd93",
   "metadata": {},
   "outputs": [
    {
     "name": "stdout",
     "output_type": "stream",
     "text": [
      "[1 0 0 1 1 0 1 1 0 1 0 1 0 0 1 1 0 0 0 0 0 0 0 0 1 0 1 0 1 0 0 0 0 0 0 0 0\n",
      " 0 0 1 0 0 0 0 0 1 1 0 0 0 0 1 0 0 0 0 1 0 1 1 0 0 1 0 0 0 0 1 1 0 1 1 0 0\n",
      " 0 0 0 0 0 1 0 0 0 0 0 0 0 1 0 0 0 0 1 0 0 0 0 0 0 1 0 0 0 1 0 0 1 0 0 0 1\n",
      " 1 0 0 1 0 0 1 0 1 0 0 0 0 0 1 1 0 1 0 0 0 0 1 0 0 0 0 0 0 0 0 0 0 1 0 0 0\n",
      " 0 1 1 0 0 0 1 0 0 0 0 1 1 1 0 0 0 0 0 0 0 0 1 0 0 0 1 0 0 1 0 1 1 1 0 0 0\n",
      " 0 1 0 0 0 0 0 0 0 0 0 1 0 1 0]\n"
     ]
    }
   ],
   "source": [
    "#f\n",
    "from sklearn.neighbors import NearestCentroid\n",
    "clf = NearestCentroid()\n",
    "clf.fit(TD_tfidf_train,trainClasses)\n",
    "NearestCentroid(metric = 'cosine',shrink_threshold=None)\n",
    "\n",
    "Nc_labels = clf.predict(testmatrix)\n",
    "print(Nc_labels)\n",
    "  "
   ]
  },
  {
   "cell_type": "code",
   "execution_count": 57,
   "id": "892bd65f",
   "metadata": {},
   "outputs": [],
   "source": [
    "def NearestCentroid_evaluate(Nc_labels, testClasses):\n",
    "    c = 0\n",
    "    for i in range(len(Nc_labels)):\n",
    "        if Nc_labels[i] == testClasses[i]:\n",
    "            c += 1\n",
    "    accuracy = c/len(testClasses)\n",
    "    return accuracy"
   ]
  },
  {
   "cell_type": "code",
   "execution_count": 58,
   "id": "5aedf1f9",
   "metadata": {},
   "outputs": [],
   "source": [
    "a2 = NearestCentroid_evaluate(Nc_labels,testClasses)"
   ]
  },
  {
   "cell_type": "code",
   "execution_count": 59,
   "id": "e89ae802",
   "metadata": {},
   "outputs": [
    {
     "data": {
      "text/plain": [
       "0.77"
      ]
     },
     "execution_count": 59,
     "metadata": {},
     "output_type": "execute_result"
    }
   ],
   "source": [
    "a2"
   ]
  },
  {
   "cell_type": "markdown",
   "id": "ef0882cc",
   "metadata": {},
   "source": [
    "Rocchio from part e had a higher  accuracy rate 0.96 when compared to the accuracy rate 0.77 from scikit-learn's NearestCentroid."
   ]
  },
  {
   "cell_type": "code",
   "execution_count": 11,
   "id": "e918df4f",
   "metadata": {},
   "outputs": [],
   "source": [
    "#Part 2\n",
    "#a\n",
    "csv = pd.read_csv(\"C:\\\\Users\\\\Luke\\\\Desktop\\\\adult-modified1(1).csv\")"
   ]
  },
  {
   "cell_type": "code",
   "execution_count": 12,
   "id": "e1e8d2e0",
   "metadata": {},
   "outputs": [
    {
     "data": {
      "text/html": [
       "<div>\n",
       "<style scoped>\n",
       "    .dataframe tbody tr th:only-of-type {\n",
       "        vertical-align: middle;\n",
       "    }\n",
       "\n",
       "    .dataframe tbody tr th {\n",
       "        vertical-align: top;\n",
       "    }\n",
       "\n",
       "    .dataframe thead th {\n",
       "        text-align: right;\n",
       "    }\n",
       "</style>\n",
       "<table border=\"1\" class=\"dataframe\">\n",
       "  <thead>\n",
       "    <tr style=\"text-align: right;\">\n",
       "      <th></th>\n",
       "      <th>age</th>\n",
       "      <th>workclass</th>\n",
       "      <th>education</th>\n",
       "      <th>marital-status</th>\n",
       "      <th>race</th>\n",
       "      <th>sex</th>\n",
       "      <th>hours-per-week</th>\n",
       "      <th>income</th>\n",
       "    </tr>\n",
       "  </thead>\n",
       "  <tbody>\n",
       "    <tr>\n",
       "      <th>0</th>\n",
       "      <td>39</td>\n",
       "      <td>Public</td>\n",
       "      <td>13</td>\n",
       "      <td>Single</td>\n",
       "      <td>White</td>\n",
       "      <td>Male</td>\n",
       "      <td>40</td>\n",
       "      <td>&lt;=50K</td>\n",
       "    </tr>\n",
       "    <tr>\n",
       "      <th>1</th>\n",
       "      <td>50</td>\n",
       "      <td>Self-emp</td>\n",
       "      <td>13</td>\n",
       "      <td>Married</td>\n",
       "      <td>White</td>\n",
       "      <td>Male</td>\n",
       "      <td>13</td>\n",
       "      <td>&lt;=50K</td>\n",
       "    </tr>\n",
       "    <tr>\n",
       "      <th>2</th>\n",
       "      <td>38</td>\n",
       "      <td>Private</td>\n",
       "      <td>9</td>\n",
       "      <td>Single</td>\n",
       "      <td>White</td>\n",
       "      <td>Male</td>\n",
       "      <td>40</td>\n",
       "      <td>&lt;=50K</td>\n",
       "    </tr>\n",
       "    <tr>\n",
       "      <th>3</th>\n",
       "      <td>53</td>\n",
       "      <td>Private</td>\n",
       "      <td>7</td>\n",
       "      <td>Married</td>\n",
       "      <td>Black</td>\n",
       "      <td>Male</td>\n",
       "      <td>40</td>\n",
       "      <td>&lt;=50K</td>\n",
       "    </tr>\n",
       "    <tr>\n",
       "      <th>4</th>\n",
       "      <td>28</td>\n",
       "      <td>Private</td>\n",
       "      <td>13</td>\n",
       "      <td>Married</td>\n",
       "      <td>Black</td>\n",
       "      <td>Female</td>\n",
       "      <td>40</td>\n",
       "      <td>&lt;=50K</td>\n",
       "    </tr>\n",
       "    <tr>\n",
       "      <th>...</th>\n",
       "      <td>...</td>\n",
       "      <td>...</td>\n",
       "      <td>...</td>\n",
       "      <td>...</td>\n",
       "      <td>...</td>\n",
       "      <td>...</td>\n",
       "      <td>...</td>\n",
       "      <td>...</td>\n",
       "    </tr>\n",
       "    <tr>\n",
       "      <th>9407</th>\n",
       "      <td>38</td>\n",
       "      <td>Private</td>\n",
       "      <td>10</td>\n",
       "      <td>Married</td>\n",
       "      <td>White</td>\n",
       "      <td>Male</td>\n",
       "      <td>60</td>\n",
       "      <td>&gt;50K</td>\n",
       "    </tr>\n",
       "    <tr>\n",
       "      <th>9408</th>\n",
       "      <td>25</td>\n",
       "      <td>Private</td>\n",
       "      <td>9</td>\n",
       "      <td>Single</td>\n",
       "      <td>White</td>\n",
       "      <td>Female</td>\n",
       "      <td>8</td>\n",
       "      <td>&lt;=50K</td>\n",
       "    </tr>\n",
       "    <tr>\n",
       "      <th>9409</th>\n",
       "      <td>21</td>\n",
       "      <td>Private</td>\n",
       "      <td>10</td>\n",
       "      <td>Single</td>\n",
       "      <td>Black</td>\n",
       "      <td>Male</td>\n",
       "      <td>40</td>\n",
       "      <td>&lt;=50K</td>\n",
       "    </tr>\n",
       "    <tr>\n",
       "      <th>9410</th>\n",
       "      <td>38</td>\n",
       "      <td>Private</td>\n",
       "      <td>2</td>\n",
       "      <td>Married</td>\n",
       "      <td>White</td>\n",
       "      <td>Male</td>\n",
       "      <td>53</td>\n",
       "      <td>&lt;=50K</td>\n",
       "    </tr>\n",
       "    <tr>\n",
       "      <th>9411</th>\n",
       "      <td>39</td>\n",
       "      <td>Private</td>\n",
       "      <td>10</td>\n",
       "      <td>Single</td>\n",
       "      <td>White</td>\n",
       "      <td>Female</td>\n",
       "      <td>40</td>\n",
       "      <td>&lt;=50K</td>\n",
       "    </tr>\n",
       "  </tbody>\n",
       "</table>\n",
       "<p>9412 rows × 8 columns</p>\n",
       "</div>"
      ],
      "text/plain": [
       "      age workclass  education marital-status   race     sex  hours-per-week  \\\n",
       "0      39    Public         13         Single  White    Male              40   \n",
       "1      50  Self-emp         13        Married  White    Male              13   \n",
       "2      38   Private          9         Single  White    Male              40   \n",
       "3      53   Private          7        Married  Black    Male              40   \n",
       "4      28   Private         13        Married  Black  Female              40   \n",
       "...   ...       ...        ...            ...    ...     ...             ...   \n",
       "9407   38   Private         10        Married  White    Male              60   \n",
       "9408   25   Private          9         Single  White  Female               8   \n",
       "9409   21   Private         10         Single  Black    Male              40   \n",
       "9410   38   Private          2        Married  White    Male              53   \n",
       "9411   39   Private         10         Single  White  Female              40   \n",
       "\n",
       "     income  \n",
       "0     <=50K  \n",
       "1     <=50K  \n",
       "2     <=50K  \n",
       "3     <=50K  \n",
       "4     <=50K  \n",
       "...     ...  \n",
       "9407   >50K  \n",
       "9408  <=50K  \n",
       "9409  <=50K  \n",
       "9410  <=50K  \n",
       "9411  <=50K  \n",
       "\n",
       "[9412 rows x 8 columns]"
      ]
     },
     "execution_count": 12,
     "metadata": {},
     "output_type": "execute_result"
    }
   ],
   "source": [
    "csv"
   ]
  },
  {
   "cell_type": "code",
   "execution_count": 91,
   "id": "6a91b8bb",
   "metadata": {},
   "outputs": [],
   "source": [
    "#csv2 = csv.reindex(np.random.permutation(csv.index))\n"
   ]
  },
  {
   "cell_type": "code",
   "execution_count": 13,
   "id": "4880d898",
   "metadata": {},
   "outputs": [
    {
     "data": {
      "text/html": [
       "<div>\n",
       "<style scoped>\n",
       "    .dataframe tbody tr th:only-of-type {\n",
       "        vertical-align: middle;\n",
       "    }\n",
       "\n",
       "    .dataframe tbody tr th {\n",
       "        vertical-align: top;\n",
       "    }\n",
       "\n",
       "    .dataframe thead th {\n",
       "        text-align: right;\n",
       "    }\n",
       "</style>\n",
       "<table border=\"1\" class=\"dataframe\">\n",
       "  <thead>\n",
       "    <tr style=\"text-align: right;\">\n",
       "      <th></th>\n",
       "      <th>workclass_Private</th>\n",
       "      <th>workclass_Public</th>\n",
       "      <th>workclass_Self-emp</th>\n",
       "      <th>marital-status_Married</th>\n",
       "      <th>marital-status_Single</th>\n",
       "      <th>race_Amer-Indian</th>\n",
       "      <th>race_Asian</th>\n",
       "      <th>race_Black</th>\n",
       "      <th>race_Hispanic</th>\n",
       "      <th>race_White</th>\n",
       "      <th>sex_Female</th>\n",
       "      <th>sex_Male</th>\n",
       "      <th>income_&lt;=50K</th>\n",
       "      <th>income_&gt;50K</th>\n",
       "    </tr>\n",
       "  </thead>\n",
       "  <tbody>\n",
       "    <tr>\n",
       "      <th>0</th>\n",
       "      <td>0</td>\n",
       "      <td>1</td>\n",
       "      <td>0</td>\n",
       "      <td>0</td>\n",
       "      <td>1</td>\n",
       "      <td>0</td>\n",
       "      <td>0</td>\n",
       "      <td>0</td>\n",
       "      <td>0</td>\n",
       "      <td>1</td>\n",
       "      <td>0</td>\n",
       "      <td>1</td>\n",
       "      <td>1</td>\n",
       "      <td>0</td>\n",
       "    </tr>\n",
       "    <tr>\n",
       "      <th>1</th>\n",
       "      <td>0</td>\n",
       "      <td>0</td>\n",
       "      <td>1</td>\n",
       "      <td>1</td>\n",
       "      <td>0</td>\n",
       "      <td>0</td>\n",
       "      <td>0</td>\n",
       "      <td>0</td>\n",
       "      <td>0</td>\n",
       "      <td>1</td>\n",
       "      <td>0</td>\n",
       "      <td>1</td>\n",
       "      <td>1</td>\n",
       "      <td>0</td>\n",
       "    </tr>\n",
       "    <tr>\n",
       "      <th>2</th>\n",
       "      <td>1</td>\n",
       "      <td>0</td>\n",
       "      <td>0</td>\n",
       "      <td>0</td>\n",
       "      <td>1</td>\n",
       "      <td>0</td>\n",
       "      <td>0</td>\n",
       "      <td>0</td>\n",
       "      <td>0</td>\n",
       "      <td>1</td>\n",
       "      <td>0</td>\n",
       "      <td>1</td>\n",
       "      <td>1</td>\n",
       "      <td>0</td>\n",
       "    </tr>\n",
       "    <tr>\n",
       "      <th>3</th>\n",
       "      <td>1</td>\n",
       "      <td>0</td>\n",
       "      <td>0</td>\n",
       "      <td>1</td>\n",
       "      <td>0</td>\n",
       "      <td>0</td>\n",
       "      <td>0</td>\n",
       "      <td>1</td>\n",
       "      <td>0</td>\n",
       "      <td>0</td>\n",
       "      <td>0</td>\n",
       "      <td>1</td>\n",
       "      <td>1</td>\n",
       "      <td>0</td>\n",
       "    </tr>\n",
       "    <tr>\n",
       "      <th>4</th>\n",
       "      <td>1</td>\n",
       "      <td>0</td>\n",
       "      <td>0</td>\n",
       "      <td>1</td>\n",
       "      <td>0</td>\n",
       "      <td>0</td>\n",
       "      <td>0</td>\n",
       "      <td>1</td>\n",
       "      <td>0</td>\n",
       "      <td>0</td>\n",
       "      <td>1</td>\n",
       "      <td>0</td>\n",
       "      <td>1</td>\n",
       "      <td>0</td>\n",
       "    </tr>\n",
       "    <tr>\n",
       "      <th>5</th>\n",
       "      <td>1</td>\n",
       "      <td>0</td>\n",
       "      <td>0</td>\n",
       "      <td>1</td>\n",
       "      <td>0</td>\n",
       "      <td>0</td>\n",
       "      <td>0</td>\n",
       "      <td>0</td>\n",
       "      <td>0</td>\n",
       "      <td>1</td>\n",
       "      <td>1</td>\n",
       "      <td>0</td>\n",
       "      <td>1</td>\n",
       "      <td>0</td>\n",
       "    </tr>\n",
       "    <tr>\n",
       "      <th>6</th>\n",
       "      <td>1</td>\n",
       "      <td>0</td>\n",
       "      <td>0</td>\n",
       "      <td>1</td>\n",
       "      <td>0</td>\n",
       "      <td>0</td>\n",
       "      <td>0</td>\n",
       "      <td>1</td>\n",
       "      <td>0</td>\n",
       "      <td>0</td>\n",
       "      <td>1</td>\n",
       "      <td>0</td>\n",
       "      <td>1</td>\n",
       "      <td>0</td>\n",
       "    </tr>\n",
       "    <tr>\n",
       "      <th>7</th>\n",
       "      <td>0</td>\n",
       "      <td>0</td>\n",
       "      <td>1</td>\n",
       "      <td>1</td>\n",
       "      <td>0</td>\n",
       "      <td>0</td>\n",
       "      <td>0</td>\n",
       "      <td>0</td>\n",
       "      <td>0</td>\n",
       "      <td>1</td>\n",
       "      <td>0</td>\n",
       "      <td>1</td>\n",
       "      <td>0</td>\n",
       "      <td>1</td>\n",
       "    </tr>\n",
       "    <tr>\n",
       "      <th>8</th>\n",
       "      <td>1</td>\n",
       "      <td>0</td>\n",
       "      <td>0</td>\n",
       "      <td>0</td>\n",
       "      <td>1</td>\n",
       "      <td>0</td>\n",
       "      <td>0</td>\n",
       "      <td>0</td>\n",
       "      <td>0</td>\n",
       "      <td>1</td>\n",
       "      <td>1</td>\n",
       "      <td>0</td>\n",
       "      <td>0</td>\n",
       "      <td>1</td>\n",
       "    </tr>\n",
       "    <tr>\n",
       "      <th>9</th>\n",
       "      <td>1</td>\n",
       "      <td>0</td>\n",
       "      <td>0</td>\n",
       "      <td>1</td>\n",
       "      <td>0</td>\n",
       "      <td>0</td>\n",
       "      <td>0</td>\n",
       "      <td>0</td>\n",
       "      <td>0</td>\n",
       "      <td>1</td>\n",
       "      <td>0</td>\n",
       "      <td>1</td>\n",
       "      <td>0</td>\n",
       "      <td>1</td>\n",
       "    </tr>\n",
       "  </tbody>\n",
       "</table>\n",
       "</div>"
      ],
      "text/plain": [
       "   workclass_Private  workclass_Public  workclass_Self-emp  \\\n",
       "0                  0                 1                   0   \n",
       "1                  0                 0                   1   \n",
       "2                  1                 0                   0   \n",
       "3                  1                 0                   0   \n",
       "4                  1                 0                   0   \n",
       "5                  1                 0                   0   \n",
       "6                  1                 0                   0   \n",
       "7                  0                 0                   1   \n",
       "8                  1                 0                   0   \n",
       "9                  1                 0                   0   \n",
       "\n",
       "   marital-status_Married  marital-status_Single  race_Amer-Indian  \\\n",
       "0                       0                      1                 0   \n",
       "1                       1                      0                 0   \n",
       "2                       0                      1                 0   \n",
       "3                       1                      0                 0   \n",
       "4                       1                      0                 0   \n",
       "5                       1                      0                 0   \n",
       "6                       1                      0                 0   \n",
       "7                       1                      0                 0   \n",
       "8                       0                      1                 0   \n",
       "9                       1                      0                 0   \n",
       "\n",
       "   race_Asian  race_Black  race_Hispanic  race_White  sex_Female  sex_Male  \\\n",
       "0           0           0              0           1           0         1   \n",
       "1           0           0              0           1           0         1   \n",
       "2           0           0              0           1           0         1   \n",
       "3           0           1              0           0           0         1   \n",
       "4           0           1              0           0           1         0   \n",
       "5           0           0              0           1           1         0   \n",
       "6           0           1              0           0           1         0   \n",
       "7           0           0              0           1           0         1   \n",
       "8           0           0              0           1           1         0   \n",
       "9           0           0              0           1           0         1   \n",
       "\n",
       "   income_<=50K  income_>50K  \n",
       "0             1            0  \n",
       "1             1            0  \n",
       "2             1            0  \n",
       "3             1            0  \n",
       "4             1            0  \n",
       "5             1            0  \n",
       "6             1            0  \n",
       "7             0            1  \n",
       "8             0            1  \n",
       "9             0            1  "
      ]
     },
     "execution_count": 13,
     "metadata": {},
     "output_type": "execute_result"
    }
   ],
   "source": [
    "dummycsv = pd.get_dummies(csv[['workclass','marital-status','race','sex','income']])\n",
    "dummycsv.head(10)"
   ]
  },
  {
   "cell_type": "code",
   "execution_count": 14,
   "id": "9ab9f5d3",
   "metadata": {},
   "outputs": [
    {
     "data": {
      "text/html": [
       "<div>\n",
       "<style scoped>\n",
       "    .dataframe tbody tr th:only-of-type {\n",
       "        vertical-align: middle;\n",
       "    }\n",
       "\n",
       "    .dataframe tbody tr th {\n",
       "        vertical-align: top;\n",
       "    }\n",
       "\n",
       "    .dataframe thead th {\n",
       "        text-align: right;\n",
       "    }\n",
       "</style>\n",
       "<table border=\"1\" class=\"dataframe\">\n",
       "  <thead>\n",
       "    <tr style=\"text-align: right;\">\n",
       "      <th></th>\n",
       "      <th>age</th>\n",
       "      <th>workclass</th>\n",
       "      <th>education</th>\n",
       "      <th>marital-status</th>\n",
       "      <th>race</th>\n",
       "      <th>sex</th>\n",
       "      <th>hours-per-week</th>\n",
       "      <th>income</th>\n",
       "      <th>workclass_Private</th>\n",
       "      <th>workclass_Public</th>\n",
       "      <th>...</th>\n",
       "      <th>marital-status_Single</th>\n",
       "      <th>race_Amer-Indian</th>\n",
       "      <th>race_Asian</th>\n",
       "      <th>race_Black</th>\n",
       "      <th>race_Hispanic</th>\n",
       "      <th>race_White</th>\n",
       "      <th>sex_Female</th>\n",
       "      <th>sex_Male</th>\n",
       "      <th>income_&lt;=50K</th>\n",
       "      <th>income_&gt;50K</th>\n",
       "    </tr>\n",
       "  </thead>\n",
       "  <tbody>\n",
       "    <tr>\n",
       "      <th>0</th>\n",
       "      <td>39</td>\n",
       "      <td>Public</td>\n",
       "      <td>13</td>\n",
       "      <td>Single</td>\n",
       "      <td>White</td>\n",
       "      <td>Male</td>\n",
       "      <td>40</td>\n",
       "      <td>&lt;=50K</td>\n",
       "      <td>0</td>\n",
       "      <td>1</td>\n",
       "      <td>...</td>\n",
       "      <td>1</td>\n",
       "      <td>0</td>\n",
       "      <td>0</td>\n",
       "      <td>0</td>\n",
       "      <td>0</td>\n",
       "      <td>1</td>\n",
       "      <td>0</td>\n",
       "      <td>1</td>\n",
       "      <td>1</td>\n",
       "      <td>0</td>\n",
       "    </tr>\n",
       "    <tr>\n",
       "      <th>1</th>\n",
       "      <td>50</td>\n",
       "      <td>Self-emp</td>\n",
       "      <td>13</td>\n",
       "      <td>Married</td>\n",
       "      <td>White</td>\n",
       "      <td>Male</td>\n",
       "      <td>13</td>\n",
       "      <td>&lt;=50K</td>\n",
       "      <td>0</td>\n",
       "      <td>0</td>\n",
       "      <td>...</td>\n",
       "      <td>0</td>\n",
       "      <td>0</td>\n",
       "      <td>0</td>\n",
       "      <td>0</td>\n",
       "      <td>0</td>\n",
       "      <td>1</td>\n",
       "      <td>0</td>\n",
       "      <td>1</td>\n",
       "      <td>1</td>\n",
       "      <td>0</td>\n",
       "    </tr>\n",
       "    <tr>\n",
       "      <th>2</th>\n",
       "      <td>38</td>\n",
       "      <td>Private</td>\n",
       "      <td>9</td>\n",
       "      <td>Single</td>\n",
       "      <td>White</td>\n",
       "      <td>Male</td>\n",
       "      <td>40</td>\n",
       "      <td>&lt;=50K</td>\n",
       "      <td>1</td>\n",
       "      <td>0</td>\n",
       "      <td>...</td>\n",
       "      <td>1</td>\n",
       "      <td>0</td>\n",
       "      <td>0</td>\n",
       "      <td>0</td>\n",
       "      <td>0</td>\n",
       "      <td>1</td>\n",
       "      <td>0</td>\n",
       "      <td>1</td>\n",
       "      <td>1</td>\n",
       "      <td>0</td>\n",
       "    </tr>\n",
       "    <tr>\n",
       "      <th>3</th>\n",
       "      <td>53</td>\n",
       "      <td>Private</td>\n",
       "      <td>7</td>\n",
       "      <td>Married</td>\n",
       "      <td>Black</td>\n",
       "      <td>Male</td>\n",
       "      <td>40</td>\n",
       "      <td>&lt;=50K</td>\n",
       "      <td>1</td>\n",
       "      <td>0</td>\n",
       "      <td>...</td>\n",
       "      <td>0</td>\n",
       "      <td>0</td>\n",
       "      <td>0</td>\n",
       "      <td>1</td>\n",
       "      <td>0</td>\n",
       "      <td>0</td>\n",
       "      <td>0</td>\n",
       "      <td>1</td>\n",
       "      <td>1</td>\n",
       "      <td>0</td>\n",
       "    </tr>\n",
       "    <tr>\n",
       "      <th>4</th>\n",
       "      <td>28</td>\n",
       "      <td>Private</td>\n",
       "      <td>13</td>\n",
       "      <td>Married</td>\n",
       "      <td>Black</td>\n",
       "      <td>Female</td>\n",
       "      <td>40</td>\n",
       "      <td>&lt;=50K</td>\n",
       "      <td>1</td>\n",
       "      <td>0</td>\n",
       "      <td>...</td>\n",
       "      <td>0</td>\n",
       "      <td>0</td>\n",
       "      <td>0</td>\n",
       "      <td>1</td>\n",
       "      <td>0</td>\n",
       "      <td>0</td>\n",
       "      <td>1</td>\n",
       "      <td>0</td>\n",
       "      <td>1</td>\n",
       "      <td>0</td>\n",
       "    </tr>\n",
       "    <tr>\n",
       "      <th>5</th>\n",
       "      <td>37</td>\n",
       "      <td>Private</td>\n",
       "      <td>14</td>\n",
       "      <td>Married</td>\n",
       "      <td>White</td>\n",
       "      <td>Female</td>\n",
       "      <td>40</td>\n",
       "      <td>&lt;=50K</td>\n",
       "      <td>1</td>\n",
       "      <td>0</td>\n",
       "      <td>...</td>\n",
       "      <td>0</td>\n",
       "      <td>0</td>\n",
       "      <td>0</td>\n",
       "      <td>0</td>\n",
       "      <td>0</td>\n",
       "      <td>1</td>\n",
       "      <td>1</td>\n",
       "      <td>0</td>\n",
       "      <td>1</td>\n",
       "      <td>0</td>\n",
       "    </tr>\n",
       "    <tr>\n",
       "      <th>6</th>\n",
       "      <td>49</td>\n",
       "      <td>Private</td>\n",
       "      <td>5</td>\n",
       "      <td>Married</td>\n",
       "      <td>Black</td>\n",
       "      <td>Female</td>\n",
       "      <td>16</td>\n",
       "      <td>&lt;=50K</td>\n",
       "      <td>1</td>\n",
       "      <td>0</td>\n",
       "      <td>...</td>\n",
       "      <td>0</td>\n",
       "      <td>0</td>\n",
       "      <td>0</td>\n",
       "      <td>1</td>\n",
       "      <td>0</td>\n",
       "      <td>0</td>\n",
       "      <td>1</td>\n",
       "      <td>0</td>\n",
       "      <td>1</td>\n",
       "      <td>0</td>\n",
       "    </tr>\n",
       "    <tr>\n",
       "      <th>7</th>\n",
       "      <td>52</td>\n",
       "      <td>Self-emp</td>\n",
       "      <td>9</td>\n",
       "      <td>Married</td>\n",
       "      <td>White</td>\n",
       "      <td>Male</td>\n",
       "      <td>45</td>\n",
       "      <td>&gt;50K</td>\n",
       "      <td>0</td>\n",
       "      <td>0</td>\n",
       "      <td>...</td>\n",
       "      <td>0</td>\n",
       "      <td>0</td>\n",
       "      <td>0</td>\n",
       "      <td>0</td>\n",
       "      <td>0</td>\n",
       "      <td>1</td>\n",
       "      <td>0</td>\n",
       "      <td>1</td>\n",
       "      <td>0</td>\n",
       "      <td>1</td>\n",
       "    </tr>\n",
       "    <tr>\n",
       "      <th>8</th>\n",
       "      <td>31</td>\n",
       "      <td>Private</td>\n",
       "      <td>14</td>\n",
       "      <td>Single</td>\n",
       "      <td>White</td>\n",
       "      <td>Female</td>\n",
       "      <td>50</td>\n",
       "      <td>&gt;50K</td>\n",
       "      <td>1</td>\n",
       "      <td>0</td>\n",
       "      <td>...</td>\n",
       "      <td>1</td>\n",
       "      <td>0</td>\n",
       "      <td>0</td>\n",
       "      <td>0</td>\n",
       "      <td>0</td>\n",
       "      <td>1</td>\n",
       "      <td>1</td>\n",
       "      <td>0</td>\n",
       "      <td>0</td>\n",
       "      <td>1</td>\n",
       "    </tr>\n",
       "    <tr>\n",
       "      <th>9</th>\n",
       "      <td>42</td>\n",
       "      <td>Private</td>\n",
       "      <td>13</td>\n",
       "      <td>Married</td>\n",
       "      <td>White</td>\n",
       "      <td>Male</td>\n",
       "      <td>40</td>\n",
       "      <td>&gt;50K</td>\n",
       "      <td>1</td>\n",
       "      <td>0</td>\n",
       "      <td>...</td>\n",
       "      <td>0</td>\n",
       "      <td>0</td>\n",
       "      <td>0</td>\n",
       "      <td>0</td>\n",
       "      <td>0</td>\n",
       "      <td>1</td>\n",
       "      <td>0</td>\n",
       "      <td>1</td>\n",
       "      <td>0</td>\n",
       "      <td>1</td>\n",
       "    </tr>\n",
       "  </tbody>\n",
       "</table>\n",
       "<p>10 rows × 22 columns</p>\n",
       "</div>"
      ],
      "text/plain": [
       "   age workclass  education marital-status   race     sex  hours-per-week  \\\n",
       "0   39    Public         13         Single  White    Male              40   \n",
       "1   50  Self-emp         13        Married  White    Male              13   \n",
       "2   38   Private          9         Single  White    Male              40   \n",
       "3   53   Private          7        Married  Black    Male              40   \n",
       "4   28   Private         13        Married  Black  Female              40   \n",
       "5   37   Private         14        Married  White  Female              40   \n",
       "6   49   Private          5        Married  Black  Female              16   \n",
       "7   52  Self-emp          9        Married  White    Male              45   \n",
       "8   31   Private         14         Single  White  Female              50   \n",
       "9   42   Private         13        Married  White    Male              40   \n",
       "\n",
       "  income  workclass_Private  workclass_Public  ...  marital-status_Single  \\\n",
       "0  <=50K                  0                 1  ...                      1   \n",
       "1  <=50K                  0                 0  ...                      0   \n",
       "2  <=50K                  1                 0  ...                      1   \n",
       "3  <=50K                  1                 0  ...                      0   \n",
       "4  <=50K                  1                 0  ...                      0   \n",
       "5  <=50K                  1                 0  ...                      0   \n",
       "6  <=50K                  1                 0  ...                      0   \n",
       "7   >50K                  0                 0  ...                      0   \n",
       "8   >50K                  1                 0  ...                      1   \n",
       "9   >50K                  1                 0  ...                      0   \n",
       "\n",
       "   race_Amer-Indian  race_Asian  race_Black  race_Hispanic  race_White  \\\n",
       "0                 0           0           0              0           1   \n",
       "1                 0           0           0              0           1   \n",
       "2                 0           0           0              0           1   \n",
       "3                 0           0           1              0           0   \n",
       "4                 0           0           1              0           0   \n",
       "5                 0           0           0              0           1   \n",
       "6                 0           0           1              0           0   \n",
       "7                 0           0           0              0           1   \n",
       "8                 0           0           0              0           1   \n",
       "9                 0           0           0              0           1   \n",
       "\n",
       "   sex_Female  sex_Male  income_<=50K  income_>50K  \n",
       "0           0         1             1            0  \n",
       "1           0         1             1            0  \n",
       "2           0         1             1            0  \n",
       "3           0         1             1            0  \n",
       "4           1         0             1            0  \n",
       "5           1         0             1            0  \n",
       "6           1         0             1            0  \n",
       "7           0         1             0            1  \n",
       "8           1         0             0            1  \n",
       "9           0         1             0            1  \n",
       "\n",
       "[10 rows x 22 columns]"
      ]
     },
     "execution_count": 14,
     "metadata": {},
     "output_type": "execute_result"
    }
   ],
   "source": [
    "dummycsv2 = pd.concat([csv,dummycsv],axis=1)\n",
    "dummycsv2.head(10)"
   ]
  },
  {
   "cell_type": "code",
   "execution_count": 15,
   "id": "6de8054c",
   "metadata": {},
   "outputs": [],
   "source": [
    "dummycsv2 = dummycsv2.drop(columns=['workclass', 'marital-status','race','sex','income'])"
   ]
  },
  {
   "cell_type": "code",
   "execution_count": 16,
   "id": "7f4d7563",
   "metadata": {},
   "outputs": [],
   "source": [
    "dummycsv2 = dummycsv2.drop(columns=['income_<=50K'])"
   ]
  },
  {
   "cell_type": "code",
   "execution_count": 17,
   "id": "f21ccf5f",
   "metadata": {},
   "outputs": [
    {
     "data": {
      "text/html": [
       "<div>\n",
       "<style scoped>\n",
       "    .dataframe tbody tr th:only-of-type {\n",
       "        vertical-align: middle;\n",
       "    }\n",
       "\n",
       "    .dataframe tbody tr th {\n",
       "        vertical-align: top;\n",
       "    }\n",
       "\n",
       "    .dataframe thead th {\n",
       "        text-align: right;\n",
       "    }\n",
       "</style>\n",
       "<table border=\"1\" class=\"dataframe\">\n",
       "  <thead>\n",
       "    <tr style=\"text-align: right;\">\n",
       "      <th></th>\n",
       "      <th>age</th>\n",
       "      <th>education</th>\n",
       "      <th>hours-per-week</th>\n",
       "      <th>workclass_Private</th>\n",
       "      <th>workclass_Public</th>\n",
       "      <th>workclass_Self-emp</th>\n",
       "      <th>marital-status_Married</th>\n",
       "      <th>marital-status_Single</th>\n",
       "      <th>race_Amer-Indian</th>\n",
       "      <th>race_Asian</th>\n",
       "      <th>race_Black</th>\n",
       "      <th>race_Hispanic</th>\n",
       "      <th>race_White</th>\n",
       "      <th>sex_Female</th>\n",
       "      <th>sex_Male</th>\n",
       "      <th>income_&gt;50K</th>\n",
       "    </tr>\n",
       "  </thead>\n",
       "  <tbody>\n",
       "    <tr>\n",
       "      <th>0</th>\n",
       "      <td>39</td>\n",
       "      <td>13</td>\n",
       "      <td>40</td>\n",
       "      <td>0</td>\n",
       "      <td>1</td>\n",
       "      <td>0</td>\n",
       "      <td>0</td>\n",
       "      <td>1</td>\n",
       "      <td>0</td>\n",
       "      <td>0</td>\n",
       "      <td>0</td>\n",
       "      <td>0</td>\n",
       "      <td>1</td>\n",
       "      <td>0</td>\n",
       "      <td>1</td>\n",
       "      <td>0</td>\n",
       "    </tr>\n",
       "    <tr>\n",
       "      <th>1</th>\n",
       "      <td>50</td>\n",
       "      <td>13</td>\n",
       "      <td>13</td>\n",
       "      <td>0</td>\n",
       "      <td>0</td>\n",
       "      <td>1</td>\n",
       "      <td>1</td>\n",
       "      <td>0</td>\n",
       "      <td>0</td>\n",
       "      <td>0</td>\n",
       "      <td>0</td>\n",
       "      <td>0</td>\n",
       "      <td>1</td>\n",
       "      <td>0</td>\n",
       "      <td>1</td>\n",
       "      <td>0</td>\n",
       "    </tr>\n",
       "    <tr>\n",
       "      <th>2</th>\n",
       "      <td>38</td>\n",
       "      <td>9</td>\n",
       "      <td>40</td>\n",
       "      <td>1</td>\n",
       "      <td>0</td>\n",
       "      <td>0</td>\n",
       "      <td>0</td>\n",
       "      <td>1</td>\n",
       "      <td>0</td>\n",
       "      <td>0</td>\n",
       "      <td>0</td>\n",
       "      <td>0</td>\n",
       "      <td>1</td>\n",
       "      <td>0</td>\n",
       "      <td>1</td>\n",
       "      <td>0</td>\n",
       "    </tr>\n",
       "    <tr>\n",
       "      <th>3</th>\n",
       "      <td>53</td>\n",
       "      <td>7</td>\n",
       "      <td>40</td>\n",
       "      <td>1</td>\n",
       "      <td>0</td>\n",
       "      <td>0</td>\n",
       "      <td>1</td>\n",
       "      <td>0</td>\n",
       "      <td>0</td>\n",
       "      <td>0</td>\n",
       "      <td>1</td>\n",
       "      <td>0</td>\n",
       "      <td>0</td>\n",
       "      <td>0</td>\n",
       "      <td>1</td>\n",
       "      <td>0</td>\n",
       "    </tr>\n",
       "    <tr>\n",
       "      <th>4</th>\n",
       "      <td>28</td>\n",
       "      <td>13</td>\n",
       "      <td>40</td>\n",
       "      <td>1</td>\n",
       "      <td>0</td>\n",
       "      <td>0</td>\n",
       "      <td>1</td>\n",
       "      <td>0</td>\n",
       "      <td>0</td>\n",
       "      <td>0</td>\n",
       "      <td>1</td>\n",
       "      <td>0</td>\n",
       "      <td>0</td>\n",
       "      <td>1</td>\n",
       "      <td>0</td>\n",
       "      <td>0</td>\n",
       "    </tr>\n",
       "    <tr>\n",
       "      <th>...</th>\n",
       "      <td>...</td>\n",
       "      <td>...</td>\n",
       "      <td>...</td>\n",
       "      <td>...</td>\n",
       "      <td>...</td>\n",
       "      <td>...</td>\n",
       "      <td>...</td>\n",
       "      <td>...</td>\n",
       "      <td>...</td>\n",
       "      <td>...</td>\n",
       "      <td>...</td>\n",
       "      <td>...</td>\n",
       "      <td>...</td>\n",
       "      <td>...</td>\n",
       "      <td>...</td>\n",
       "      <td>...</td>\n",
       "    </tr>\n",
       "    <tr>\n",
       "      <th>9407</th>\n",
       "      <td>38</td>\n",
       "      <td>10</td>\n",
       "      <td>60</td>\n",
       "      <td>1</td>\n",
       "      <td>0</td>\n",
       "      <td>0</td>\n",
       "      <td>1</td>\n",
       "      <td>0</td>\n",
       "      <td>0</td>\n",
       "      <td>0</td>\n",
       "      <td>0</td>\n",
       "      <td>0</td>\n",
       "      <td>1</td>\n",
       "      <td>0</td>\n",
       "      <td>1</td>\n",
       "      <td>1</td>\n",
       "    </tr>\n",
       "    <tr>\n",
       "      <th>9408</th>\n",
       "      <td>25</td>\n",
       "      <td>9</td>\n",
       "      <td>8</td>\n",
       "      <td>1</td>\n",
       "      <td>0</td>\n",
       "      <td>0</td>\n",
       "      <td>0</td>\n",
       "      <td>1</td>\n",
       "      <td>0</td>\n",
       "      <td>0</td>\n",
       "      <td>0</td>\n",
       "      <td>0</td>\n",
       "      <td>1</td>\n",
       "      <td>1</td>\n",
       "      <td>0</td>\n",
       "      <td>0</td>\n",
       "    </tr>\n",
       "    <tr>\n",
       "      <th>9409</th>\n",
       "      <td>21</td>\n",
       "      <td>10</td>\n",
       "      <td>40</td>\n",
       "      <td>1</td>\n",
       "      <td>0</td>\n",
       "      <td>0</td>\n",
       "      <td>0</td>\n",
       "      <td>1</td>\n",
       "      <td>0</td>\n",
       "      <td>0</td>\n",
       "      <td>1</td>\n",
       "      <td>0</td>\n",
       "      <td>0</td>\n",
       "      <td>0</td>\n",
       "      <td>1</td>\n",
       "      <td>0</td>\n",
       "    </tr>\n",
       "    <tr>\n",
       "      <th>9410</th>\n",
       "      <td>38</td>\n",
       "      <td>2</td>\n",
       "      <td>53</td>\n",
       "      <td>1</td>\n",
       "      <td>0</td>\n",
       "      <td>0</td>\n",
       "      <td>1</td>\n",
       "      <td>0</td>\n",
       "      <td>0</td>\n",
       "      <td>0</td>\n",
       "      <td>0</td>\n",
       "      <td>0</td>\n",
       "      <td>1</td>\n",
       "      <td>0</td>\n",
       "      <td>1</td>\n",
       "      <td>0</td>\n",
       "    </tr>\n",
       "    <tr>\n",
       "      <th>9411</th>\n",
       "      <td>39</td>\n",
       "      <td>10</td>\n",
       "      <td>40</td>\n",
       "      <td>1</td>\n",
       "      <td>0</td>\n",
       "      <td>0</td>\n",
       "      <td>0</td>\n",
       "      <td>1</td>\n",
       "      <td>0</td>\n",
       "      <td>0</td>\n",
       "      <td>0</td>\n",
       "      <td>0</td>\n",
       "      <td>1</td>\n",
       "      <td>1</td>\n",
       "      <td>0</td>\n",
       "      <td>0</td>\n",
       "    </tr>\n",
       "  </tbody>\n",
       "</table>\n",
       "<p>9412 rows × 16 columns</p>\n",
       "</div>"
      ],
      "text/plain": [
       "      age  education  hours-per-week  workclass_Private  workclass_Public  \\\n",
       "0      39         13              40                  0                 1   \n",
       "1      50         13              13                  0                 0   \n",
       "2      38          9              40                  1                 0   \n",
       "3      53          7              40                  1                 0   \n",
       "4      28         13              40                  1                 0   \n",
       "...   ...        ...             ...                ...               ...   \n",
       "9407   38         10              60                  1                 0   \n",
       "9408   25          9               8                  1                 0   \n",
       "9409   21         10              40                  1                 0   \n",
       "9410   38          2              53                  1                 0   \n",
       "9411   39         10              40                  1                 0   \n",
       "\n",
       "      workclass_Self-emp  marital-status_Married  marital-status_Single  \\\n",
       "0                      0                       0                      1   \n",
       "1                      1                       1                      0   \n",
       "2                      0                       0                      1   \n",
       "3                      0                       1                      0   \n",
       "4                      0                       1                      0   \n",
       "...                  ...                     ...                    ...   \n",
       "9407                   0                       1                      0   \n",
       "9408                   0                       0                      1   \n",
       "9409                   0                       0                      1   \n",
       "9410                   0                       1                      0   \n",
       "9411                   0                       0                      1   \n",
       "\n",
       "      race_Amer-Indian  race_Asian  race_Black  race_Hispanic  race_White  \\\n",
       "0                    0           0           0              0           1   \n",
       "1                    0           0           0              0           1   \n",
       "2                    0           0           0              0           1   \n",
       "3                    0           0           1              0           0   \n",
       "4                    0           0           1              0           0   \n",
       "...                ...         ...         ...            ...         ...   \n",
       "9407                 0           0           0              0           1   \n",
       "9408                 0           0           0              0           1   \n",
       "9409                 0           0           1              0           0   \n",
       "9410                 0           0           0              0           1   \n",
       "9411                 0           0           0              0           1   \n",
       "\n",
       "      sex_Female  sex_Male  income_>50K  \n",
       "0              0         1            0  \n",
       "1              0         1            0  \n",
       "2              0         1            0  \n",
       "3              0         1            0  \n",
       "4              1         0            0  \n",
       "...          ...       ...          ...  \n",
       "9407           0         1            1  \n",
       "9408           1         0            0  \n",
       "9409           0         1            0  \n",
       "9410           0         1            0  \n",
       "9411           1         0            0  \n",
       "\n",
       "[9412 rows x 16 columns]"
      ]
     },
     "execution_count": 17,
     "metadata": {},
     "output_type": "execute_result"
    }
   ],
   "source": [
    "dummycsv2"
   ]
  },
  {
   "cell_type": "code",
   "execution_count": 18,
   "id": "e7b0bb19",
   "metadata": {},
   "outputs": [
    {
     "data": {
      "text/plain": [
       "array(['age', 'education', 'hours-per-week', 'workclass_Private',\n",
       "       'workclass_Public', 'workclass_Self-emp', 'marital-status_Married',\n",
       "       'marital-status_Single', 'race_Amer-Indian', 'race_Asian',\n",
       "       'race_Black', 'race_Hispanic', 'race_White', 'sex_Female',\n",
       "       'sex_Male', 'income_>50K'], dtype=object)"
      ]
     },
     "execution_count": 18,
     "metadata": {},
     "output_type": "execute_result"
    }
   ],
   "source": [
    "dummycsv2_names = dummycsv2.columns.values\n",
    "dummycsv2_names"
   ]
  },
  {
   "cell_type": "code",
   "execution_count": 19,
   "id": "378c47e1",
   "metadata": {},
   "outputs": [
    {
     "data": {
      "text/html": [
       "<div>\n",
       "<style scoped>\n",
       "    .dataframe tbody tr th:only-of-type {\n",
       "        vertical-align: middle;\n",
       "    }\n",
       "\n",
       "    .dataframe tbody tr th {\n",
       "        vertical-align: top;\n",
       "    }\n",
       "\n",
       "    .dataframe thead th {\n",
       "        text-align: right;\n",
       "    }\n",
       "</style>\n",
       "<table border=\"1\" class=\"dataframe\">\n",
       "  <thead>\n",
       "    <tr style=\"text-align: right;\">\n",
       "      <th></th>\n",
       "      <th>age</th>\n",
       "      <th>education</th>\n",
       "      <th>hours-per-week</th>\n",
       "      <th>workclass_Private</th>\n",
       "      <th>workclass_Public</th>\n",
       "      <th>workclass_Self-emp</th>\n",
       "      <th>marital-status_Married</th>\n",
       "      <th>marital-status_Single</th>\n",
       "      <th>race_Amer-Indian</th>\n",
       "      <th>race_Asian</th>\n",
       "      <th>race_Black</th>\n",
       "      <th>race_Hispanic</th>\n",
       "      <th>race_White</th>\n",
       "      <th>sex_Female</th>\n",
       "      <th>sex_Male</th>\n",
       "    </tr>\n",
       "  </thead>\n",
       "  <tbody>\n",
       "    <tr>\n",
       "      <th>0</th>\n",
       "      <td>39</td>\n",
       "      <td>13</td>\n",
       "      <td>40</td>\n",
       "      <td>0</td>\n",
       "      <td>1</td>\n",
       "      <td>0</td>\n",
       "      <td>0</td>\n",
       "      <td>1</td>\n",
       "      <td>0</td>\n",
       "      <td>0</td>\n",
       "      <td>0</td>\n",
       "      <td>0</td>\n",
       "      <td>1</td>\n",
       "      <td>0</td>\n",
       "      <td>1</td>\n",
       "    </tr>\n",
       "    <tr>\n",
       "      <th>1</th>\n",
       "      <td>50</td>\n",
       "      <td>13</td>\n",
       "      <td>13</td>\n",
       "      <td>0</td>\n",
       "      <td>0</td>\n",
       "      <td>1</td>\n",
       "      <td>1</td>\n",
       "      <td>0</td>\n",
       "      <td>0</td>\n",
       "      <td>0</td>\n",
       "      <td>0</td>\n",
       "      <td>0</td>\n",
       "      <td>1</td>\n",
       "      <td>0</td>\n",
       "      <td>1</td>\n",
       "    </tr>\n",
       "    <tr>\n",
       "      <th>2</th>\n",
       "      <td>38</td>\n",
       "      <td>9</td>\n",
       "      <td>40</td>\n",
       "      <td>1</td>\n",
       "      <td>0</td>\n",
       "      <td>0</td>\n",
       "      <td>0</td>\n",
       "      <td>1</td>\n",
       "      <td>0</td>\n",
       "      <td>0</td>\n",
       "      <td>0</td>\n",
       "      <td>0</td>\n",
       "      <td>1</td>\n",
       "      <td>0</td>\n",
       "      <td>1</td>\n",
       "    </tr>\n",
       "    <tr>\n",
       "      <th>3</th>\n",
       "      <td>53</td>\n",
       "      <td>7</td>\n",
       "      <td>40</td>\n",
       "      <td>1</td>\n",
       "      <td>0</td>\n",
       "      <td>0</td>\n",
       "      <td>1</td>\n",
       "      <td>0</td>\n",
       "      <td>0</td>\n",
       "      <td>0</td>\n",
       "      <td>1</td>\n",
       "      <td>0</td>\n",
       "      <td>0</td>\n",
       "      <td>0</td>\n",
       "      <td>1</td>\n",
       "    </tr>\n",
       "    <tr>\n",
       "      <th>4</th>\n",
       "      <td>28</td>\n",
       "      <td>13</td>\n",
       "      <td>40</td>\n",
       "      <td>1</td>\n",
       "      <td>0</td>\n",
       "      <td>0</td>\n",
       "      <td>1</td>\n",
       "      <td>0</td>\n",
       "      <td>0</td>\n",
       "      <td>0</td>\n",
       "      <td>1</td>\n",
       "      <td>0</td>\n",
       "      <td>0</td>\n",
       "      <td>1</td>\n",
       "      <td>0</td>\n",
       "    </tr>\n",
       "  </tbody>\n",
       "</table>\n",
       "</div>"
      ],
      "text/plain": [
       "   age  education  hours-per-week  workclass_Private  workclass_Public  \\\n",
       "0   39         13              40                  0                 1   \n",
       "1   50         13              13                  0                 0   \n",
       "2   38          9              40                  1                 0   \n",
       "3   53          7              40                  1                 0   \n",
       "4   28         13              40                  1                 0   \n",
       "\n",
       "   workclass_Self-emp  marital-status_Married  marital-status_Single  \\\n",
       "0                   0                       0                      1   \n",
       "1                   1                       1                      0   \n",
       "2                   0                       0                      1   \n",
       "3                   0                       1                      0   \n",
       "4                   0                       1                      0   \n",
       "\n",
       "   race_Amer-Indian  race_Asian  race_Black  race_Hispanic  race_White  \\\n",
       "0                 0           0           0              0           1   \n",
       "1                 0           0           0              0           1   \n",
       "2                 0           0           0              0           1   \n",
       "3                 0           0           1              0           0   \n",
       "4                 0           0           1              0           0   \n",
       "\n",
       "   sex_Female  sex_Male  \n",
       "0           0         1  \n",
       "1           0         1  \n",
       "2           0         1  \n",
       "3           0         1  \n",
       "4           1         0  "
      ]
     },
     "execution_count": 19,
     "metadata": {},
     "output_type": "execute_result"
    }
   ],
   "source": [
    "csv_columns = dummycsv2[['age', 'education', 'hours-per-week', 'workclass_Private',\n",
    "       'workclass_Public', 'workclass_Self-emp', 'marital-status_Married',\n",
    "       'marital-status_Single', 'race_Amer-Indian', 'race_Asian',\n",
    "       'race_Black', 'race_Hispanic', 'race_White', 'sex_Female',\n",
    "       'sex_Male']]\n",
    "csv_columns.head()"
   ]
  },
  {
   "cell_type": "code",
   "execution_count": 20,
   "id": "1aa50819",
   "metadata": {},
   "outputs": [
    {
     "data": {
      "text/html": [
       "<div>\n",
       "<style scoped>\n",
       "    .dataframe tbody tr th:only-of-type {\n",
       "        vertical-align: middle;\n",
       "    }\n",
       "\n",
       "    .dataframe tbody tr th {\n",
       "        vertical-align: top;\n",
       "    }\n",
       "\n",
       "    .dataframe thead th {\n",
       "        text-align: right;\n",
       "    }\n",
       "</style>\n",
       "<table border=\"1\" class=\"dataframe\">\n",
       "  <thead>\n",
       "    <tr style=\"text-align: right;\">\n",
       "      <th></th>\n",
       "      <th>income_&gt;50K</th>\n",
       "    </tr>\n",
       "  </thead>\n",
       "  <tbody>\n",
       "    <tr>\n",
       "      <th>0</th>\n",
       "      <td>0</td>\n",
       "    </tr>\n",
       "    <tr>\n",
       "      <th>1</th>\n",
       "      <td>0</td>\n",
       "    </tr>\n",
       "    <tr>\n",
       "      <th>2</th>\n",
       "      <td>0</td>\n",
       "    </tr>\n",
       "    <tr>\n",
       "      <th>3</th>\n",
       "      <td>0</td>\n",
       "    </tr>\n",
       "    <tr>\n",
       "      <th>4</th>\n",
       "      <td>0</td>\n",
       "    </tr>\n",
       "  </tbody>\n",
       "</table>\n",
       "</div>"
      ],
      "text/plain": [
       "   income_>50K\n",
       "0            0\n",
       "1            0\n",
       "2            0\n",
       "3            0\n",
       "4            0"
      ]
     },
     "execution_count": 20,
     "metadata": {},
     "output_type": "execute_result"
    }
   ],
   "source": [
    "csv_target = dummycsv2[['income_>50K']]\n",
    "csv_target.head()"
   ]
  },
  {
   "cell_type": "code",
   "execution_count": 21,
   "id": "a571dd30",
   "metadata": {},
   "outputs": [],
   "source": [
    "from sklearn.model_selection import train_test_split\n",
    "csv_train, csv_test, csv_target_train, csv_target_test = train_test_split(csv_columns, csv_target, test_size=0.2, random_state=33)\n",
    "\n"
   ]
  },
  {
   "cell_type": "code",
   "execution_count": 125,
   "id": "45177772",
   "metadata": {},
   "outputs": [
    {
     "name": "stdout",
     "output_type": "stream",
     "text": [
      "(7529, 15)\n",
      "(1883, 15)\n"
     ]
    }
   ],
   "source": [
    "print (csv_train.shape)\n",
    "print (csv_test.shape)"
   ]
  },
  {
   "cell_type": "code",
   "execution_count": 126,
   "id": "070a58a5",
   "metadata": {},
   "outputs": [],
   "source": [
    "#b\n",
    "\n",
    "from sklearn import preprocessing"
   ]
  },
  {
   "cell_type": "markdown",
   "id": "1c3264fc",
   "metadata": {},
   "source": []
  },
  {
   "cell_type": "code",
   "execution_count": 127,
   "id": "3b984fda",
   "metadata": {},
   "outputs": [],
   "source": [
    "min_max_scaler = preprocessing.MinMaxScaler().fit(csv_train)\n",
    "csv_train_norm = min_max_scaler.transform(csv_train)\n",
    "csv_test_norm = min_max_scaler.transform(csv_test)"
   ]
  },
  {
   "cell_type": "code",
   "execution_count": 128,
   "id": "b6236448",
   "metadata": {},
   "outputs": [],
   "source": [
    "from sklearn import neighbors"
   ]
  },
  {
   "cell_type": "code",
   "execution_count": 133,
   "id": "2a37e785",
   "metadata": {},
   "outputs": [
    {
     "data": {
      "text/html": [
       "<style>#sk-container-id-9 {color: black;background-color: white;}#sk-container-id-9 pre{padding: 0;}#sk-container-id-9 div.sk-toggleable {background-color: white;}#sk-container-id-9 label.sk-toggleable__label {cursor: pointer;display: block;width: 100%;margin-bottom: 0;padding: 0.3em;box-sizing: border-box;text-align: center;}#sk-container-id-9 label.sk-toggleable__label-arrow:before {content: \"▸\";float: left;margin-right: 0.25em;color: #696969;}#sk-container-id-9 label.sk-toggleable__label-arrow:hover:before {color: black;}#sk-container-id-9 div.sk-estimator:hover label.sk-toggleable__label-arrow:before {color: black;}#sk-container-id-9 div.sk-toggleable__content {max-height: 0;max-width: 0;overflow: hidden;text-align: left;background-color: #f0f8ff;}#sk-container-id-9 div.sk-toggleable__content pre {margin: 0.2em;color: black;border-radius: 0.25em;background-color: #f0f8ff;}#sk-container-id-9 input.sk-toggleable__control:checked~div.sk-toggleable__content {max-height: 200px;max-width: 100%;overflow: auto;}#sk-container-id-9 input.sk-toggleable__control:checked~label.sk-toggleable__label-arrow:before {content: \"▾\";}#sk-container-id-9 div.sk-estimator input.sk-toggleable__control:checked~label.sk-toggleable__label {background-color: #d4ebff;}#sk-container-id-9 div.sk-label input.sk-toggleable__control:checked~label.sk-toggleable__label {background-color: #d4ebff;}#sk-container-id-9 input.sk-hidden--visually {border: 0;clip: rect(1px 1px 1px 1px);clip: rect(1px, 1px, 1px, 1px);height: 1px;margin: -1px;overflow: hidden;padding: 0;position: absolute;width: 1px;}#sk-container-id-9 div.sk-estimator {font-family: monospace;background-color: #f0f8ff;border: 1px dotted black;border-radius: 0.25em;box-sizing: border-box;margin-bottom: 0.5em;}#sk-container-id-9 div.sk-estimator:hover {background-color: #d4ebff;}#sk-container-id-9 div.sk-parallel-item::after {content: \"\";width: 100%;border-bottom: 1px solid gray;flex-grow: 1;}#sk-container-id-9 div.sk-label:hover label.sk-toggleable__label {background-color: #d4ebff;}#sk-container-id-9 div.sk-serial::before {content: \"\";position: absolute;border-left: 1px solid gray;box-sizing: border-box;top: 0;bottom: 0;left: 50%;z-index: 0;}#sk-container-id-9 div.sk-serial {display: flex;flex-direction: column;align-items: center;background-color: white;padding-right: 0.2em;padding-left: 0.2em;position: relative;}#sk-container-id-9 div.sk-item {position: relative;z-index: 1;}#sk-container-id-9 div.sk-parallel {display: flex;align-items: stretch;justify-content: center;background-color: white;position: relative;}#sk-container-id-9 div.sk-item::before, #sk-container-id-9 div.sk-parallel-item::before {content: \"\";position: absolute;border-left: 1px solid gray;box-sizing: border-box;top: 0;bottom: 0;left: 50%;z-index: -1;}#sk-container-id-9 div.sk-parallel-item {display: flex;flex-direction: column;z-index: 1;position: relative;background-color: white;}#sk-container-id-9 div.sk-parallel-item:first-child::after {align-self: flex-end;width: 50%;}#sk-container-id-9 div.sk-parallel-item:last-child::after {align-self: flex-start;width: 50%;}#sk-container-id-9 div.sk-parallel-item:only-child::after {width: 0;}#sk-container-id-9 div.sk-dashed-wrapped {border: 1px dashed gray;margin: 0 0.4em 0.5em 0.4em;box-sizing: border-box;padding-bottom: 0.4em;background-color: white;}#sk-container-id-9 div.sk-label label {font-family: monospace;font-weight: bold;display: inline-block;line-height: 1.2em;}#sk-container-id-9 div.sk-label-container {text-align: center;}#sk-container-id-9 div.sk-container {/* jupyter's `normalize.less` sets `[hidden] { display: none; }` but bootstrap.min.css set `[hidden] { display: none !important; }` so we also need the `!important` here to be able to override the default hidden behavior on the sphinx rendered scikit-learn.org. See: https://github.com/scikit-learn/scikit-learn/issues/21755 */display: inline-block !important;position: relative;}#sk-container-id-9 div.sk-text-repr-fallback {display: none;}</style><div id=\"sk-container-id-9\" class=\"sk-top-container\"><div class=\"sk-text-repr-fallback\"><pre>KNeighborsClassifier(n_neighbors=10, weights=&#x27;distance&#x27;)</pre><b>In a Jupyter environment, please rerun this cell to show the HTML representation or trust the notebook. <br />On GitHub, the HTML representation is unable to render, please try loading this page with nbviewer.org.</b></div><div class=\"sk-container\" hidden><div class=\"sk-item\"><div class=\"sk-estimator sk-toggleable\"><input class=\"sk-toggleable__control sk-hidden--visually\" id=\"sk-estimator-id-9\" type=\"checkbox\" checked><label for=\"sk-estimator-id-9\" class=\"sk-toggleable__label sk-toggleable__label-arrow\">KNeighborsClassifier</label><div class=\"sk-toggleable__content\"><pre>KNeighborsClassifier(n_neighbors=10, weights=&#x27;distance&#x27;)</pre></div></div></div></div></div>"
      ],
      "text/plain": [
       "KNeighborsClassifier(n_neighbors=10, weights='distance')"
      ]
     },
     "execution_count": 133,
     "metadata": {},
     "output_type": "execute_result"
    }
   ],
   "source": [
    "n_neighbors = 10\n",
    "\n",
    "knnclf = neighbors.KNeighborsClassifier(n_neighbors, weights='distance')\n",
    "knnclf.fit(csv_train_norm, csv_target_train.values.ravel())"
   ]
  },
  {
   "cell_type": "code",
   "execution_count": 134,
   "id": "bf6d79a8",
   "metadata": {},
   "outputs": [
    {
     "name": "stdout",
     "output_type": "stream",
     "text": [
      "[1 1 0 ... 0 0 1]\n"
     ]
    }
   ],
   "source": [
    "knnpreds_test = knnclf.predict(csv_test_norm)\n",
    "print(knnpreds_test)"
   ]
  },
  {
   "cell_type": "code",
   "execution_count": 25,
   "id": "e2308f3a",
   "metadata": {},
   "outputs": [],
   "source": [
    "from sklearn.metrics import classification_report"
   ]
  },
  {
   "cell_type": "code",
   "execution_count": 136,
   "id": "0b7b77f0",
   "metadata": {},
   "outputs": [
    {
     "name": "stdout",
     "output_type": "stream",
     "text": [
      "              precision    recall  f1-score   support\n",
      "\n",
      "           0       0.85      0.89      0.87      1443\n",
      "           1       0.57      0.48      0.52       440\n",
      "\n",
      "    accuracy                           0.79      1883\n",
      "   macro avg       0.71      0.69      0.70      1883\n",
      "weighted avg       0.78      0.79      0.79      1883\n",
      "\n"
     ]
    }
   ],
   "source": [
    "print(classification_report(csv_target_test, knnpreds_test))"
   ]
  },
  {
   "cell_type": "code",
   "execution_count": 26,
   "id": "3bc05af9",
   "metadata": {},
   "outputs": [],
   "source": [
    "from sklearn.metrics import confusion_matrix"
   ]
  },
  {
   "cell_type": "code",
   "execution_count": 138,
   "id": "c3c6ddae",
   "metadata": {},
   "outputs": [
    {
     "name": "stdout",
     "output_type": "stream",
     "text": [
      "[[1283  160]\n",
      " [ 228  212]]\n"
     ]
    }
   ],
   "source": [
    "knncm = confusion_matrix(csv_target_test, knnpreds_test)\n",
    "print (knncm)"
   ]
  },
  {
   "cell_type": "code",
   "execution_count": 139,
   "id": "33246040",
   "metadata": {},
   "outputs": [
    {
     "data": {
      "image/png": "[encoded data removed]",
      "text/plain": [
       "<Figure size 480x480 with 2 Axes>"
      ]
     },
     "metadata": {},
     "output_type": "display_data"
    }
   ],
   "source": [
    "import pylab as plt\n",
    "%matplotlib inline\n",
    "plt.matshow(knncm)\n",
    "plt.title('Confusion matrix')\n",
    "plt.colorbar()\n",
    "plt.ylabel('Actual')\n",
    "plt.xlabel('Predicted')\n",
    "plt.show()"
   ]
  },
  {
   "cell_type": "code",
   "execution_count": 142,
   "id": "4d8c9595",
   "metadata": {},
   "outputs": [
    {
     "name": "stdout",
     "output_type": "stream",
     "text": [
      "0.7939458311205523\n"
     ]
    }
   ],
   "source": [
    "print (knnclf.score(csv_test_norm, csv_target_test))"
   ]
  },
  {
   "cell_type": "code",
   "execution_count": 141,
   "id": "0dd3ae2d",
   "metadata": {},
   "outputs": [
    {
     "name": "stdout",
     "output_type": "stream",
     "text": [
      "0.9426218621330854\n"
     ]
    }
   ],
   "source": [
    "print (knnclf.score(csv_train_norm, csv_target_train))"
   ]
  },
  {
   "cell_type": "markdown",
   "id": "1bdeffea",
   "metadata": {},
   "source": [
    "The accuracy for the test sets is 0.79. The accuracy for the train sets is 0.94"
   ]
  },
  {
   "cell_type": "code",
   "execution_count": 156,
   "id": "7a3a727a",
   "metadata": {},
   "outputs": [
    {
     "name": "stdout",
     "output_type": "stream",
     "text": [
      "[0.9412936644972772, 0.9412936644972772, 0.9420905830787621, 0.942223402842343, 0.9424890423695046, 0.9426218621330854, 0.9426218621330854, 0.9426218621330854, 0.9426218621330854, 0.9426218621330854, 0.9426218621330854, 0.9426218621330854, 0.9426218621330854, 0.9426218621330854, 0.9426218621330854, 0.9426218621330854, 0.9426218621330854, 0.9426218621330854, 0.9426218621330854, 0.9426218621330854, 0.9426218621330854, 0.9426218621330854, 0.9426218621330854, 0.9426218621330854, 0.9426218621330854, 0.9426218621330854, 0.9426218621330854, 0.9426218621330854, 0.9426218621330854, 0.9426218621330854, 0.9426218621330854, 0.9426218621330854, 0.9426218621330854, 0.9426218621330854, 0.9426218621330854, 0.9426218621330854, 0.9426218621330854, 0.9426218621330854, 0.9426218621330854, 0.9426218621330854, 0.9426218621330854, 0.9426218621330854, 0.9426218621330854, 0.9426218621330854, 0.9426218621330854, 0.9426218621330854, 0.9426218621330854, 0.9426218621330854, 0.9426218621330854, 0.9426218621330854, 0.9426218621330854, 0.9426218621330854, 0.9426218621330854, 0.9426218621330854, 0.9426218621330854, 0.9426218621330854, 0.9426218621330854, 0.9426218621330854, 0.9426218621330854, 0.9426218621330854, 0.9426218621330854, 0.9426218621330854, 0.9426218621330854, 0.9426218621330854, 0.9426218621330854, 0.9426218621330854, 0.9426218621330854, 0.9426218621330854, 0.9426218621330854, 0.9426218621330854, 0.9426218621330854, 0.9426218621330854, 0.9426218621330854, 0.9426218621330854, 0.9426218621330854, 0.9426218621330854, 0.9426218621330854, 0.9426218621330854, 0.9426218621330854, 0.9426218621330854, 0.9426218621330854, 0.9426218621330854, 0.9426218621330854, 0.9426218621330854, 0.9426218621330854, 0.9426218621330854, 0.9426218621330854, 0.9426218621330854, 0.9426218621330854, 0.9426218621330854, 0.9426218621330854, 0.9426218621330854, 0.9426218621330854, 0.9426218621330854, 0.9426218621330854, 0.9426218621330854, 0.9426218621330854, 0.9426218621330854, 0.9426218621330854, 0.9426218621330854]\n",
      "[0.7881040892193308, 0.7881040892193308, 0.7907594264471588, 0.7886351566648965, 0.7971322357939459, 0.7934147636749868, 0.7939458311205523, 0.7928836962294211, 0.7928836962294211, 0.7934147636749868, 0.7912904938927243, 0.7939458311205523, 0.7944768985661179, 0.7955390334572491, 0.7944768985661179, 0.7955390334572491, 0.7966011683483802, 0.7976633032395114, 0.7966011683483802, 0.7987254381306426, 0.7987254381306426, 0.7971322357939459, 0.7960701009028146, 0.7976633032395114, 0.7992565055762082, 0.7992565055762082, 0.8008497079129049, 0.8013807753584705, 0.8008497079129049, 0.8024429102496017, 0.8013807753584705, 0.8008497079129049, 0.7997875730217737, 0.798194370685077, 0.7992565055762082, 0.7992565055762082, 0.7997875730217737, 0.8008497079129049, 0.7997875730217737, 0.7997875730217737, 0.7997875730217737, 0.8008497079129049, 0.8008497079129049, 0.8024429102496017, 0.8008497079129049, 0.8008497079129049, 0.798194370685077, 0.8003186404673394, 0.8029739776951673, 0.8019118428040362, 0.8019118428040362, 0.8013807753584705, 0.8013807753584705, 0.8013807753584705, 0.7997875730217737, 0.798194370685077, 0.7971322357939459, 0.7987254381306426, 0.7987254381306426, 0.7976633032395114, 0.7976633032395114, 0.7987254381306426, 0.798194370685077, 0.798194370685077, 0.7976633032395114, 0.798194370685077, 0.7976633032395114, 0.798194370685077, 0.798194370685077, 0.7987254381306426, 0.7992565055762082, 0.7987254381306426, 0.7992565055762082, 0.7992565055762082, 0.7997875730217737, 0.7997875730217737, 0.7997875730217737, 0.7997875730217737, 0.8003186404673394, 0.7987254381306426, 0.8003186404673394, 0.8003186404673394, 0.8003186404673394, 0.8008497079129049, 0.8008497079129049, 0.8003186404673394, 0.8019118428040362, 0.8019118428040362, 0.8008497079129049, 0.8003186404673394, 0.7992565055762082, 0.8008497079129049, 0.8008497079129049, 0.8013807753584705, 0.8008497079129049, 0.8024429102496017, 0.8003186404673394, 0.8019118428040362, 0.7997875730217737, 0.8019118428040362]\n"
     ]
    }
   ],
   "source": [
    "kvalues = np.int32(np.linspace(5,100,100))\n",
    "\n",
    "distance_train = []\n",
    "distance_test = []\n",
    "\n",
    "for k in kvalues:\n",
    "    knnclf = neighbors.KNeighborsClassifier(k, weights='distance')\n",
    "    knnclf.fit(csv_train_norm, csv_target_train.values.ravel())\n",
    "    knnclf.predict(csv_test_norm)\n",
    "    wtest = knnclf.score(csv_test_norm, csv_target_test)\n",
    "    wtrain = knnclf.score(csv_train_norm, csv_target_train)\n",
    "    distance_train.append(wtrain)\n",
    "    distance_test.append(wtest)\n",
    "print(distance_train)\n",
    "print(distance_test)"
   ]
  },
  {
   "cell_type": "code",
   "execution_count": 157,
   "id": "feec5dd2",
   "metadata": {},
   "outputs": [
    {
     "name": "stdout",
     "output_type": "stream",
     "text": [
      "[0.8552264576969053, 0.8552264576969053, 0.8463275335369903, 0.8463275335369903, 0.840616283703015, 0.8387568070128835, 0.8380927081949794, 0.8367645105591712, 0.8334440164696507, 0.8343737548147164, 0.8319829990702616, 0.8327799176517465, 0.8313189002523576, 0.8318501793066808, 0.8307876211980343, 0.829459423562226, 0.8287953247443219, 0.8274671271085138, 0.8282640456899987, 0.827334307344933, 0.8278655863992562, 0.8261389294727055, 0.8266702085270288, 0.825076371364059, 0.822818435383185, 0.822818435383185, 0.8238809934918316, 0.8233497144375083, 0.8230840749103466, 0.8249435516004782, 0.8236153539646699, 0.8217558772745385, 0.8229512551467658, 0.8206933191658918, 0.8201620401115686, 0.8204276796387302, 0.8202948598751494, 0.8189666622393412, 0.8148492495683358, 0.8160446274405632, 0.8159118076769823, 0.8160446274405632, 0.8145836100411741, 0.8152477088590783, 0.816177447204144, 0.8148492495683358, 0.8147164298047549, 0.8153805286226591, 0.8149820693319166, 0.8143179705140124, 0.8143179705140124, 0.8149820693319166, 0.8165759064948864, 0.816177447204144, 0.8179041041306947, 0.8179041041306947, 0.8177712843671139, 0.8177712843671139, 0.8169743657856289, 0.8187010227121796, 0.8177712843671139, 0.8179041041306947, 0.8183025634214371, 0.8172400053127905, 0.8197635808208261, 0.818435383185018, 0.8194979412936645, 0.819099482002922, 0.8198964005844069, 0.8200292203479878, 0.8188338424757604, 0.8197635808208261, 0.8193651215300837, 0.8194979412936645, 0.8189666622393412, 0.8189666622393412, 0.8185682029485988, 0.8193651215300837, 0.8188338424757604, 0.8200292203479878, 0.818435383185018, 0.8179041041306947, 0.817638464603533, 0.817638464603533, 0.817638464603533, 0.8177712843671139, 0.8165759064948864, 0.8157789879134015, 0.8173728250763713, 0.8167087262584672, 0.819099482002922, 0.8167087262584672, 0.8180369238942755, 0.8171071855492097, 0.8169743657856289, 0.8167087262584672, 0.8168415460220481, 0.8155133483862399, 0.8163102669677248, 0.8169743657856289]\n",
      "[0.79182156133829, 0.79182156133829, 0.7944768985661179, 0.798194370685077, 0.8013807753584705, 0.8056293149229952, 0.8035050451407328, 0.8019118428040362, 0.8013807753584705, 0.8061603823685608, 0.8024429102496017, 0.807222517259692, 0.8066914498141264, 0.8040361125862985, 0.8035050451407328, 0.8109399893786511, 0.8098778544875199, 0.8098778544875199, 0.8093467870419543, 0.8088157195963888, 0.8093467870419543, 0.8104089219330854, 0.8093467870419543, 0.8077535847052576, 0.813595326606479, 0.813595326606479, 0.8151885289431758, 0.8167817312798725, 0.8173127987254382, 0.8173127987254382, 0.8077535847052576, 0.8109399893786511, 0.8061603823685608, 0.8093467870419543, 0.804567180031864, 0.8104089219330854, 0.8061603823685608, 0.8104089219330854, 0.8093467870419543, 0.8157195963887414, 0.8130642591609134, 0.8173127987254382, 0.8125331917153479, 0.8183749336165693, 0.8098778544875199, 0.8173127987254382, 0.816250663834307, 0.8157195963887414, 0.8151885289431758, 0.8173127987254382, 0.8173127987254382, 0.813595326606479, 0.8167817312798725, 0.8109399893786511, 0.8183749336165693, 0.8141263940520446, 0.8130642591609134, 0.8104089219330854, 0.8125331917153479, 0.813595326606479, 0.8125331917153479, 0.8109399893786511, 0.8104089219330854, 0.8066914498141264, 0.8104089219330854, 0.807222517259692, 0.813595326606479, 0.8109399893786511, 0.8114710568242167, 0.8114710568242167, 0.813595326606479, 0.8146574614976102, 0.8146574614976102, 0.8130642591609134, 0.8151885289431758, 0.8151885289431758, 0.816250663834307, 0.816250663834307, 0.816250663834307, 0.8146574614976102, 0.8141263940520446, 0.8151885289431758, 0.8141263940520446, 0.813595326606479, 0.813595326606479, 0.813595326606479, 0.8157195963887414, 0.8167817312798725, 0.8114710568242167, 0.8130642591609134, 0.8125331917153479, 0.8146574614976102, 0.8141263940520446, 0.8146574614976102, 0.8125331917153479, 0.8167817312798725, 0.813595326606479, 0.8183749336165693, 0.8167817312798725, 0.8194370685077005]\n"
     ]
    }
   ],
   "source": [
    "uniform_test = []\n",
    "uniform_train = []\n",
    "\n",
    "for k in kvalues:\n",
    "    knnclf = neighbors.KNeighborsClassifier(k, weights='uniform')\n",
    "    knnclf.fit(csv_train_norm, csv_target_train.values.ravel())\n",
    "    knnclf.predict(csv_test_norm)\n",
    "    utest = knnclf.score(csv_test_norm, csv_target_test)\n",
    "    utrain = knnclf.score(csv_train_norm, csv_target_train)\n",
    "    uniform_train.append(utrain)\n",
    "    uniform_test.append(utest)\n",
    "print(uniform_train)\n",
    "print(uniform_test)"
   ]
  },
  {
   "cell_type": "code",
   "execution_count": 160,
   "id": "d017da16",
   "metadata": {},
   "outputs": [
    {
     "data": {
      "text/plain": [
       "<matplotlib.legend.Legend at 0x1dc391cd290>"
      ]
     },
     "execution_count": 160,
     "metadata": {},
     "output_type": "execute_result"
    },
    {
     "data": {
      "image/png": "[encoded data removed]",
      "text/plain": [
       "<Figure size 640x480 with 1 Axes>"
      ]
     },
     "metadata": {},
     "output_type": "display_data"
    }
   ],
   "source": [
    "\n",
    "plt.plot(kvalues,distance_train,'go',label = 'Distance Train')\n",
    "plt.plot(kvalues,distance_test,'ro',label = 'Distance Test')\n",
    "\n",
    "plt.plot(kvalues,uniform_test,'ko',label = 'Uniform Test')\n",
    "plt.plot(kvalues,uniform_train,'bo',label = 'Uniform Train')\n",
    "\n",
    "\n",
    "plt.grid(linestyle='--',color=[.8,.8,.8])\n",
    "plt.xlabel('k values')\n",
    "plt.ylabel('Accuracy')\n",
    "plt.title('Accuracy of KNN Evaluation using various k values and weights')\n",
    "plt.legend()"
   ]
  },
  {
   "cell_type": "code",
   "execution_count": 173,
   "id": "1200fb8c",
   "metadata": {},
   "outputs": [
    {
     "name": "stdout",
     "output_type": "stream",
     "text": [
      "0.9426218621330854\n",
      "0.8029739776951673\n",
      "0.8552264576969053\n",
      "0.8194370685077005\n"
     ]
    }
   ],
   "source": [
    "maxdtrain = np.argmax(distance_train)\n",
    "maxdtest = np.argmax(distance_test)\n",
    "maxutrain = np.argmax(uniform_train)\n",
    "maxutest = np.argmax(uniform_test)\n",
    "\n",
    "maxdtrain_value = np.max(distance_train)\n",
    "maxdtest_value = np.max(distance_test)\n",
    "maxutrain_value = np.max(uniform_train)\n",
    "maxutest_value = np.max(uniform_test)\n",
    "\n",
    "print(maxdtrain_value)\n",
    "print(maxdtest_value)\n",
    "print(maxutrain_value)\n",
    "print(maxutest_value)"
   ]
  },
  {
   "cell_type": "code",
   "execution_count": 172,
   "id": "e6785ea2",
   "metadata": {},
   "outputs": [
    {
     "name": "stdout",
     "output_type": "stream",
     "text": [
      "9\n",
      "51\n",
      "5\n",
      "100\n"
     ]
    }
   ],
   "source": [
    "dtrain_bestk = kvalues[maxdtrain]\n",
    "dtest_bestk = kvalues[maxdtest]\n",
    "utrain_bestk = kvalues[maxutrain]\n",
    "utest_bestk = kvalues[maxutest]\n",
    "\n",
    "print(dtrain_bestk)\n",
    "print(dtest_bestk)\n",
    "print(utrain_bestk)\n",
    "print(utest_bestk)"
   ]
  },
  {
   "cell_type": "markdown",
   "id": "6157e6b3",
   "metadata": {},
   "source": []
  },
  {
   "cell_type": "code",
   "execution_count": 177,
   "id": "be4c0df3",
   "metadata": {},
   "outputs": [],
   "source": [
    "\n",
    "\n",
    "knnclf = neighbors.KNeighborsClassifier(9, weights='distance')\n",
    "knnclf.fit(csv_train_norm, csv_target_train.values.ravel())\n",
    "bestpredict = knnclf.predict(csv_test_norm)\n",
    "dtest = knnclf.score(csv_test_norm, csv_target_test)\n",
    "dtrain = knnclf.score(csv_train_norm, csv_target_train)"
   ]
  },
  {
   "cell_type": "code",
   "execution_count": 178,
   "id": "47f214bd",
   "metadata": {},
   "outputs": [
    {
     "name": "stdout",
     "output_type": "stream",
     "text": [
      "0.7934147636749868\n",
      "0.9426218621330854\n"
     ]
    }
   ],
   "source": [
    "print(dtest)\n",
    "print(dtrain)"
   ]
  },
  {
   "cell_type": "markdown",
   "id": "a98814c7",
   "metadata": {},
   "source": [
    "The best k value and weight combination for retrieving the highest accuracy appears to be when the training set has a k value of 9 and is weighted by distance. This returns an accuracy value 0.94 for the training set and 0.79 for the test set. Using a k value of 100 with a uniform weight would however lead the the highest accuracy for the test set. The reason for using the k=9 and distance parameters instead is because, the highest training set accuracy when using a uniform weight is only 0.86. This is a lot lower than 0.94. The difference between the highest possible accuracy value for the test sets regardless of weight (0.82) and the value exhibited when performing k=9 and distance parameters (0.79) is comparably smaller."
   ]
  },
  {
   "cell_type": "code",
   "execution_count": 179,
   "id": "3b76e046",
   "metadata": {},
   "outputs": [
    {
     "name": "stdout",
     "output_type": "stream",
     "text": [
      "              precision    recall  f1-score   support\n",
      "\n",
      "           0       0.85      0.89      0.87      1443\n",
      "           1       0.57      0.48      0.52       440\n",
      "\n",
      "    accuracy                           0.79      1883\n",
      "   macro avg       0.71      0.68      0.69      1883\n",
      "weighted avg       0.78      0.79      0.79      1883\n",
      "\n"
     ]
    }
   ],
   "source": [
    "print(classification_report(csv_target_test, bestpredict))"
   ]
  },
  {
   "cell_type": "code",
   "execution_count": 183,
   "id": "6186fed0",
   "metadata": {},
   "outputs": [
    {
     "name": "stdout",
     "output_type": "stream",
     "text": [
      "[[1283  160]\n",
      " [ 229  211]]\n"
     ]
    }
   ],
   "source": [
    "knncmbest = confusion_matrix(csv_target_test, bestpredict)\n",
    "print (knncmbest)"
   ]
  },
  {
   "cell_type": "code",
   "execution_count": 187,
   "id": "f7f2ba92",
   "metadata": {},
   "outputs": [
    {
     "data": {
      "image/png": "[encoded data removed]",
      "text/plain": [
       "<Figure size 480x480 with 2 Axes>"
      ]
     },
     "metadata": {},
     "output_type": "display_data"
    }
   ],
   "source": [
    "plt.matshow(knncmbest)\n",
    "plt.title('Confusion matrix (k=9 and Distance-weighted)')\n",
    "plt.colorbar()\n",
    "\n",
    "plt.ylabel('Actual')\n",
    "plt.xlabel('Predicted')\n",
    "plt.show()"
   ]
  },
  {
   "cell_type": "code",
   "execution_count": 190,
   "id": "e1f4cd56",
   "metadata": {},
   "outputs": [
    {
     "data": {
      "text/plain": [
       "<matplotlib.legend.Legend at 0x1dc397f8250>"
      ]
     },
     "execution_count": 190,
     "metadata": {},
     "output_type": "execute_result"
    },
    {
     "data": {
      "image/png": "[encoded data removed]",
      "text/plain": [
       "<Figure size 640x480 with 1 Axes>"
      ]
     },
     "metadata": {},
     "output_type": "display_data"
    }
   ],
   "source": [
    "\n",
    "plt.plot(kvalues,uniform_test,'k-',label = 'Uniform Test')\n",
    "plt.plot(kvalues,uniform_train,'b-',label = 'Uniform Train')\n",
    "\n",
    "\n",
    "plt.grid(linestyle='--',color=[.8,.8,.8])\n",
    "plt.xlabel('k values')\n",
    "plt.ylabel('Accuracy')\n",
    "plt.title('Accuracy of KNN Evaluation using Uniform weights')\n",
    "plt.legend()"
   ]
  },
  {
   "cell_type": "markdown",
   "id": "177a3a75",
   "metadata": {},
   "source": [
    "There appears to be overfitting occuring in the k range of 1 to 40. This is because the accuracy values in this range are high for the training data but low for the test data. While there are later ranges where training data is higher than test data, the largest gap appears in the first 40 k values. "
   ]
  },
  {
   "cell_type": "code",
   "execution_count": 22,
   "id": "6fa45e68",
   "metadata": {},
   "outputs": [],
   "source": [
    "#c\n",
    "\n",
    "#csv_train, csv_test, csv_target_train, csv_target_test\n",
    "\n",
    "from sklearn import tree\n",
    "import graphviz"
   ]
  },
  {
   "cell_type": "code",
   "execution_count": 27,
   "id": "351b1de2",
   "metadata": {},
   "outputs": [
    {
     "name": "stdout",
     "output_type": "stream",
     "text": [
      "0.77376526818906\n",
      "0.9297383450657458\n"
     ]
    }
   ],
   "source": [
    "treeclf = tree.DecisionTreeClassifier(criterion='entropy', min_samples_split=3)\n",
    "treeclf = treeclf.fit(csv_train, csv_target_train)\n",
    "treepreds_test = treeclf.predict(csv_test)\n",
    "print (treeclf.score(csv_test, csv_target_test))\n",
    "print (treeclf.score(csv_train, csv_target_train))\n",
    "\n"
   ]
  },
  {
   "cell_type": "code",
   "execution_count": 28,
   "id": "d449bdd6",
   "metadata": {},
   "outputs": [
    {
     "name": "stdout",
     "output_type": "stream",
     "text": [
      "              precision    recall  f1-score   support\n",
      "\n",
      "           0       0.84      0.87      0.86      1443\n",
      "           1       0.52      0.45      0.48       440\n",
      "\n",
      "    accuracy                           0.77      1883\n",
      "   macro avg       0.68      0.66      0.67      1883\n",
      "weighted avg       0.76      0.77      0.77      1883\n",
      "\n"
     ]
    }
   ],
   "source": [
    "print(classification_report(csv_target_test, treepreds_test))"
   ]
  },
  {
   "cell_type": "code",
   "execution_count": 29,
   "id": "20662f70",
   "metadata": {},
   "outputs": [
    {
     "name": "stdout",
     "output_type": "stream",
     "text": [
      "[[1258  185]\n",
      " [ 241  199]]\n"
     ]
    }
   ],
   "source": [
    "treecm = confusion_matrix(csv_target_test, treepreds_test, labels=[0,1])\n",
    "print (treecm)"
   ]
  },
  {
   "cell_type": "code",
   "execution_count": 30,
   "id": "3db8f755",
   "metadata": {},
   "outputs": [
    {
     "data": {
      "image/png": "[encoded data removed]",
      "text/plain": [
       "<Figure size 480x480 with 2 Axes>"
      ]
     },
     "metadata": {},
     "output_type": "display_data"
    }
   ],
   "source": [
    "plt.matshow(treecm)\n",
    "plt.title('Confusion matrix')\n",
    "plt.colorbar()\n",
    "plt.ylabel('Actual')\n",
    "plt.xlabel('Predicted')\n",
    "plt.show()"
   ]
  },
  {
   "cell_type": "markdown",
   "id": "16e498dc",
   "metadata": {},
   "source": [
    "The test set accuracy is 0.77376526818906, while the train set accuracy is much higher (0.9297383450657458). This suggests that there is a decent level of variance involved as the high traing and low testing scores indicate some level of overfitting. Without any bias however, this difference in accuracy values could be even larger as some level of bias is needed to prevent too much overfitting. Too much bias could however lead to the opposite problem and cause the model to not properly evaluate the the data sets and target values. "
   ]
  },
  {
   "cell_type": "code",
   "execution_count": 31,
   "id": "d6e16886",
   "metadata": {},
   "outputs": [
    {
     "name": "stdout",
     "output_type": "stream",
     "text": [
      "0.8167817312798725\n",
      "0.8187010227121796\n"
     ]
    }
   ],
   "source": [
    "treeclf2 = tree.DecisionTreeClassifier(criterion='gini', min_samples_split=10,max_depth=4)\n",
    "treeclf2 = treeclf2.fit(csv_train, csv_target_train)\n",
    "treepreds_test2 = treeclf2.predict(csv_test)\n",
    "print (treeclf2.score(csv_test, csv_target_test))\n",
    "print (treeclf2.score(csv_train, csv_target_train))"
   ]
  },
  {
   "cell_type": "code",
   "execution_count": 32,
   "id": "63866f12",
   "metadata": {},
   "outputs": [],
   "source": [
    "from sklearn.tree import export_graphviz\n",
    "export_graphviz(treeclf2,out_file='tree.dot', feature_names=csv_train.columns)"
   ]
  },
  {
   "cell_type": "code",
   "execution_count": 33,
   "id": "c18e2939",
   "metadata": {},
   "outputs": [],
   "source": [
    "import graphviz\n",
    "\n",
    "with open(\"tree.dot\") as f:\n",
    "    dot_graph = f.read()\n"
   ]
  },
  {
   "cell_type": "code",
   "execution_count": 34,
   "id": "3ffc97b9",
   "metadata": {},
   "outputs": [
    {
     "data": {
      "image/svg+xml": [
       "<?xml version=\"1.0\" encoding=\"UTF-8\" standalone=\"no\"?>\n",
       "<!DOCTYPE svg PUBLIC \"-//W3C//DTD SVG 1.1//EN\"\n",
       " \"http://www.w3.org/Graphics/SVG/1.1/DTD/svg11.dtd\">\n",
       "<!-- Generated by graphviz version 7.1.0 (20230121.1956)\n",
       " -->\n",
       "<!-- Title: Tree Pages: 1 -->\n",
       "<svg width=\"2176pt\" height=\"477pt\"\n",
       " viewBox=\"0.00 0.00 2176.00 477.00\" xmlns=\"http://www.w3.org/2000/svg\" xmlns:xlink=\"http://www.w3.org/1999/xlink\">\n",
       "<g id=\"graph0\" class=\"graph\" transform=\"scale(1 1) rotate(0) translate(4 473)\">\n",
       "<title>Tree</title>\n",
       "<polygon fill=\"white\" stroke=\"none\" points=\"-4,4 -4,-473 2172,-473 2172,4 -4,4\"/>\n",
       "<!-- 0 -->\n",
       "<g id=\"node1\" class=\"node\">\n",
       "<title>0</title>\n",
       "<polygon fill=\"none\" stroke=\"black\" points=\"1216.5,-469 1024.5,-469 1024.5,-401 1216.5,-401 1216.5,-469\"/>\n",
       "<text text-anchor=\"middle\" x=\"1120.5\" y=\"-453.8\" font-family=\"Helvetica,sans-Serif\" font-size=\"14.00\">marital&#45;status_Single &lt;= 0.5</text>\n",
       "<text text-anchor=\"middle\" x=\"1120.5\" y=\"-438.8\" font-family=\"Helvetica,sans-Serif\" font-size=\"14.00\">gini = 0.375</text>\n",
       "<text text-anchor=\"middle\" x=\"1120.5\" y=\"-423.8\" font-family=\"Helvetica,sans-Serif\" font-size=\"14.00\">samples = 7529</text>\n",
       "<text text-anchor=\"middle\" x=\"1120.5\" y=\"-408.8\" font-family=\"Helvetica,sans-Serif\" font-size=\"14.00\">value = [5650, 1879]</text>\n",
       "</g>\n",
       "<!-- 1 -->\n",
       "<g id=\"node2\" class=\"node\">\n",
       "<title>1</title>\n",
       "<polygon fill=\"none\" stroke=\"black\" points=\"885.5,-365 739.5,-365 739.5,-297 885.5,-297 885.5,-365\"/>\n",
       "<text text-anchor=\"middle\" x=\"812.5\" y=\"-349.8\" font-family=\"Helvetica,sans-Serif\" font-size=\"14.00\">education &lt;= 11.5</text>\n",
       "<text text-anchor=\"middle\" x=\"812.5\" y=\"-334.8\" font-family=\"Helvetica,sans-Serif\" font-size=\"14.00\">gini = 0.489</text>\n",
       "<text text-anchor=\"middle\" x=\"812.5\" y=\"-319.8\" font-family=\"Helvetica,sans-Serif\" font-size=\"14.00\">samples = 3824</text>\n",
       "<text text-anchor=\"middle\" x=\"812.5\" y=\"-304.8\" font-family=\"Helvetica,sans-Serif\" font-size=\"14.00\">value = [2192, 1632]</text>\n",
       "</g>\n",
       "<!-- 0&#45;&gt;1 -->\n",
       "<g id=\"edge1\" class=\"edge\">\n",
       "<title>0&#45;&gt;1</title>\n",
       "<path fill=\"none\" stroke=\"black\" d=\"M1024.31,-402.15C983.5,-388.63 936.34,-373.01 896.9,-359.95\"/>\n",
       "<polygon fill=\"black\" stroke=\"black\" points=\"898.02,-356.63 887.42,-356.81 895.82,-363.28 898.02,-356.63\"/>\n",
       "<text text-anchor=\"middle\" x=\"897.21\" y=\"-374.98\" font-family=\"Helvetica,sans-Serif\" font-size=\"14.00\">True</text>\n",
       "</g>\n",
       "<!-- 16 -->\n",
       "<g id=\"node17\" class=\"node\">\n",
       "<title>16</title>\n",
       "<polygon fill=\"none\" stroke=\"black\" points=\"1453.5,-365 1315.5,-365 1315.5,-297 1453.5,-297 1453.5,-365\"/>\n",
       "<text text-anchor=\"middle\" x=\"1384.5\" y=\"-349.8\" font-family=\"Helvetica,sans-Serif\" font-size=\"14.00\">education &lt;= 13.5</text>\n",
       "<text text-anchor=\"middle\" x=\"1384.5\" y=\"-334.8\" font-family=\"Helvetica,sans-Serif\" font-size=\"14.00\">gini = 0.124</text>\n",
       "<text text-anchor=\"middle\" x=\"1384.5\" y=\"-319.8\" font-family=\"Helvetica,sans-Serif\" font-size=\"14.00\">samples = 3705</text>\n",
       "<text text-anchor=\"middle\" x=\"1384.5\" y=\"-304.8\" font-family=\"Helvetica,sans-Serif\" font-size=\"14.00\">value = [3458, 247]</text>\n",
       "</g>\n",
       "<!-- 0&#45;&gt;16 -->\n",
       "<g id=\"edge16\" class=\"edge\">\n",
       "<title>0&#45;&gt;16</title>\n",
       "<path fill=\"none\" stroke=\"black\" d=\"M1206.94,-400.6C1238.29,-388.49 1273.53,-374.87 1304.31,-362.98\"/>\n",
       "<polygon fill=\"black\" stroke=\"black\" points=\"1305.52,-366.27 1313.59,-359.4 1303,-359.74 1305.52,-366.27\"/>\n",
       "<text text-anchor=\"middle\" x=\"1304.88\" y=\"-378.01\" font-family=\"Helvetica,sans-Serif\" font-size=\"14.00\">False</text>\n",
       "</g>\n",
       "<!-- 2 -->\n",
       "<g id=\"node3\" class=\"node\">\n",
       "<title>2</title>\n",
       "<polygon fill=\"none\" stroke=\"black\" points=\"483.5,-261 345.5,-261 345.5,-193 483.5,-193 483.5,-261\"/>\n",
       "<text text-anchor=\"middle\" x=\"414.5\" y=\"-245.8\" font-family=\"Helvetica,sans-Serif\" font-size=\"14.00\">education &lt;= 8.5</text>\n",
       "<text text-anchor=\"middle\" x=\"414.5\" y=\"-230.8\" font-family=\"Helvetica,sans-Serif\" font-size=\"14.00\">gini = 0.428</text>\n",
       "<text text-anchor=\"middle\" x=\"414.5\" y=\"-215.8\" font-family=\"Helvetica,sans-Serif\" font-size=\"14.00\">samples = 2608</text>\n",
       "<text text-anchor=\"middle\" x=\"414.5\" y=\"-200.8\" font-family=\"Helvetica,sans-Serif\" font-size=\"14.00\">value = [1800, 808]</text>\n",
       "</g>\n",
       "<!-- 1&#45;&gt;2 -->\n",
       "<g id=\"edge2\" class=\"edge\">\n",
       "<title>1&#45;&gt;2</title>\n",
       "<path fill=\"none\" stroke=\"black\" d=\"M739.04,-311.17C669.71,-293.41 566.03,-266.83 494.6,-248.53\"/>\n",
       "<polygon fill=\"black\" stroke=\"black\" points=\"495.89,-245.25 485.34,-246.15 494.15,-252.03 495.89,-245.25\"/>\n",
       "</g>\n",
       "<!-- 9 -->\n",
       "<g id=\"node10\" class=\"node\">\n",
       "<title>9</title>\n",
       "<polygon fill=\"none\" stroke=\"black\" points=\"877.5,-261 747.5,-261 747.5,-193 877.5,-193 877.5,-261\"/>\n",
       "<text text-anchor=\"middle\" x=\"812.5\" y=\"-245.8\" font-family=\"Helvetica,sans-Serif\" font-size=\"14.00\">age &lt;= 30.5</text>\n",
       "<text text-anchor=\"middle\" x=\"812.5\" y=\"-230.8\" font-family=\"Helvetica,sans-Serif\" font-size=\"14.00\">gini = 0.437</text>\n",
       "<text text-anchor=\"middle\" x=\"812.5\" y=\"-215.8\" font-family=\"Helvetica,sans-Serif\" font-size=\"14.00\">samples = 1216</text>\n",
       "<text text-anchor=\"middle\" x=\"812.5\" y=\"-200.8\" font-family=\"Helvetica,sans-Serif\" font-size=\"14.00\">value = [392, 824]</text>\n",
       "</g>\n",
       "<!-- 1&#45;&gt;9 -->\n",
       "<g id=\"edge9\" class=\"edge\">\n",
       "<title>1&#45;&gt;9</title>\n",
       "<path fill=\"none\" stroke=\"black\" d=\"M812.5,-296.6C812.5,-289.03 812.5,-280.87 812.5,-272.9\"/>\n",
       "<polygon fill=\"black\" stroke=\"black\" points=\"816,-272.99 812.5,-262.99 809,-272.99 816,-272.99\"/>\n",
       "</g>\n",
       "<!-- 3 -->\n",
       "<g id=\"node4\" class=\"node\">\n",
       "<title>3</title>\n",
       "<polygon fill=\"none\" stroke=\"black\" points=\"268,-157 101,-157 101,-89 268,-89 268,-157\"/>\n",
       "<text text-anchor=\"middle\" x=\"184.5\" y=\"-141.8\" font-family=\"Helvetica,sans-Serif\" font-size=\"14.00\">hours&#45;per&#45;week &lt;= 39.0</text>\n",
       "<text text-anchor=\"middle\" x=\"184.5\" y=\"-126.8\" font-family=\"Helvetica,sans-Serif\" font-size=\"14.00\">gini = 0.194</text>\n",
       "<text text-anchor=\"middle\" x=\"184.5\" y=\"-111.8\" font-family=\"Helvetica,sans-Serif\" font-size=\"14.00\">samples = 441</text>\n",
       "<text text-anchor=\"middle\" x=\"184.5\" y=\"-96.8\" font-family=\"Helvetica,sans-Serif\" font-size=\"14.00\">value = [393, 48]</text>\n",
       "</g>\n",
       "<!-- 2&#45;&gt;3 -->\n",
       "<g id=\"edge3\" class=\"edge\">\n",
       "<title>2&#45;&gt;3</title>\n",
       "<path fill=\"none\" stroke=\"black\" d=\"M345.18,-195.26C321.57,-184.79 294.89,-172.96 270.16,-161.99\"/>\n",
       "<polygon fill=\"black\" stroke=\"black\" points=\"271.63,-158.81 261.07,-157.96 268.79,-165.21 271.63,-158.81\"/>\n",
       "</g>\n",
       "<!-- 6 -->\n",
       "<g id=\"node7\" class=\"node\">\n",
       "<title>6</title>\n",
       "<polygon fill=\"none\" stroke=\"black\" points=\"483.5,-157 345.5,-157 345.5,-89 483.5,-89 483.5,-157\"/>\n",
       "<text text-anchor=\"middle\" x=\"414.5\" y=\"-141.8\" font-family=\"Helvetica,sans-Serif\" font-size=\"14.00\">age &lt;= 32.5</text>\n",
       "<text text-anchor=\"middle\" x=\"414.5\" y=\"-126.8\" font-family=\"Helvetica,sans-Serif\" font-size=\"14.00\">gini = 0.455</text>\n",
       "<text text-anchor=\"middle\" x=\"414.5\" y=\"-111.8\" font-family=\"Helvetica,sans-Serif\" font-size=\"14.00\">samples = 2167</text>\n",
       "<text text-anchor=\"middle\" x=\"414.5\" y=\"-96.8\" font-family=\"Helvetica,sans-Serif\" font-size=\"14.00\">value = [1407, 760]</text>\n",
       "</g>\n",
       "<!-- 2&#45;&gt;6 -->\n",
       "<g id=\"edge6\" class=\"edge\">\n",
       "<title>2&#45;&gt;6</title>\n",
       "<path fill=\"none\" stroke=\"black\" d=\"M414.5,-192.6C414.5,-185.03 414.5,-176.87 414.5,-168.9\"/>\n",
       "<polygon fill=\"black\" stroke=\"black\" points=\"418,-168.99 414.5,-158.99 411,-168.99 418,-168.99\"/>\n",
       "</g>\n",
       "<!-- 4 -->\n",
       "<g id=\"node5\" class=\"node\">\n",
       "<title>4</title>\n",
       "<polygon fill=\"none\" stroke=\"black\" points=\"105,-53 0,-53 0,0 105,0 105,-53\"/>\n",
       "<text text-anchor=\"middle\" x=\"52.5\" y=\"-37.8\" font-family=\"Helvetica,sans-Serif\" font-size=\"14.00\">gini = 0.043</text>\n",
       "<text text-anchor=\"middle\" x=\"52.5\" y=\"-22.8\" font-family=\"Helvetica,sans-Serif\" font-size=\"14.00\">samples = 91</text>\n",
       "<text text-anchor=\"middle\" x=\"52.5\" y=\"-7.8\" font-family=\"Helvetica,sans-Serif\" font-size=\"14.00\">value = [89, 2]</text>\n",
       "</g>\n",
       "<!-- 3&#45;&gt;4 -->\n",
       "<g id=\"edge4\" class=\"edge\">\n",
       "<title>3&#45;&gt;4</title>\n",
       "<path fill=\"none\" stroke=\"black\" d=\"M137.96,-88.68C124.94,-79.36 110.81,-69.24 97.86,-59.97\"/>\n",
       "<polygon fill=\"black\" stroke=\"black\" points=\"100.07,-57.25 89.9,-54.27 95.99,-62.94 100.07,-57.25\"/>\n",
       "</g>\n",
       "<!-- 5 -->\n",
       "<g id=\"node6\" class=\"node\">\n",
       "<title>5</title>\n",
       "<polygon fill=\"none\" stroke=\"black\" points=\"245.5,-53 123.5,-53 123.5,0 245.5,0 245.5,-53\"/>\n",
       "<text text-anchor=\"middle\" x=\"184.5\" y=\"-37.8\" font-family=\"Helvetica,sans-Serif\" font-size=\"14.00\">gini = 0.228</text>\n",
       "<text text-anchor=\"middle\" x=\"184.5\" y=\"-22.8\" font-family=\"Helvetica,sans-Serif\" font-size=\"14.00\">samples = 350</text>\n",
       "<text text-anchor=\"middle\" x=\"184.5\" y=\"-7.8\" font-family=\"Helvetica,sans-Serif\" font-size=\"14.00\">value = [304, 46]</text>\n",
       "</g>\n",
       "<!-- 3&#45;&gt;5 -->\n",
       "<g id=\"edge5\" class=\"edge\">\n",
       "<title>3&#45;&gt;5</title>\n",
       "<path fill=\"none\" stroke=\"black\" d=\"M184.5,-88.68C184.5,-80.99 184.5,-72.76 184.5,-64.9\"/>\n",
       "<polygon fill=\"black\" stroke=\"black\" points=\"188,-64.91 184.5,-54.91 181,-64.91 188,-64.91\"/>\n",
       "</g>\n",
       "<!-- 7 -->\n",
       "<g id=\"node8\" class=\"node\">\n",
       "<title>7</title>\n",
       "<polygon fill=\"none\" stroke=\"black\" points=\"385.5,-53 263.5,-53 263.5,0 385.5,0 385.5,-53\"/>\n",
       "<text text-anchor=\"middle\" x=\"324.5\" y=\"-37.8\" font-family=\"Helvetica,sans-Serif\" font-size=\"14.00\">gini = 0.31</text>\n",
       "<text text-anchor=\"middle\" x=\"324.5\" y=\"-22.8\" font-family=\"Helvetica,sans-Serif\" font-size=\"14.00\">samples = 474</text>\n",
       "<text text-anchor=\"middle\" x=\"324.5\" y=\"-7.8\" font-family=\"Helvetica,sans-Serif\" font-size=\"14.00\">value = [383, 91]</text>\n",
       "</g>\n",
       "<!-- 6&#45;&gt;7 -->\n",
       "<g id=\"edge7\" class=\"edge\">\n",
       "<title>6&#45;&gt;7</title>\n",
       "<path fill=\"none\" stroke=\"black\" d=\"M382.77,-88.68C374.41,-79.9 365.38,-70.42 356.98,-61.6\"/>\n",
       "<polygon fill=\"black\" stroke=\"black\" points=\"359.64,-59.32 350.2,-54.49 354.57,-64.15 359.64,-59.32\"/>\n",
       "</g>\n",
       "<!-- 8 -->\n",
       "<g id=\"node9\" class=\"node\">\n",
       "<title>8</title>\n",
       "<polygon fill=\"none\" stroke=\"black\" points=\"541.5,-53 403.5,-53 403.5,0 541.5,0 541.5,-53\"/>\n",
       "<text text-anchor=\"middle\" x=\"472.5\" y=\"-37.8\" font-family=\"Helvetica,sans-Serif\" font-size=\"14.00\">gini = 0.478</text>\n",
       "<text text-anchor=\"middle\" x=\"472.5\" y=\"-22.8\" font-family=\"Helvetica,sans-Serif\" font-size=\"14.00\">samples = 1693</text>\n",
       "<text text-anchor=\"middle\" x=\"472.5\" y=\"-7.8\" font-family=\"Helvetica,sans-Serif\" font-size=\"14.00\">value = [1024, 669]</text>\n",
       "</g>\n",
       "<!-- 6&#45;&gt;8 -->\n",
       "<g id=\"edge8\" class=\"edge\">\n",
       "<title>6&#45;&gt;8</title>\n",
       "<path fill=\"none\" stroke=\"black\" d=\"M434.95,-88.68C440.06,-80.36 445.56,-71.4 450.73,-62.97\"/>\n",
       "<polygon fill=\"black\" stroke=\"black\" points=\"453.57,-65.04 455.82,-54.68 447.6,-61.38 453.57,-65.04\"/>\n",
       "</g>\n",
       "<!-- 10 -->\n",
       "<g id=\"node11\" class=\"node\">\n",
       "<title>10</title>\n",
       "<polygon fill=\"none\" stroke=\"black\" points=\"804,-157 637,-157 637,-89 804,-89 804,-157\"/>\n",
       "<text text-anchor=\"middle\" x=\"720.5\" y=\"-141.8\" font-family=\"Helvetica,sans-Serif\" font-size=\"14.00\">hours&#45;per&#45;week &lt;= 41.5</text>\n",
       "<text text-anchor=\"middle\" x=\"720.5\" y=\"-126.8\" font-family=\"Helvetica,sans-Serif\" font-size=\"14.00\">gini = 0.48</text>\n",
       "<text text-anchor=\"middle\" x=\"720.5\" y=\"-111.8\" font-family=\"Helvetica,sans-Serif\" font-size=\"14.00\">samples = 140</text>\n",
       "<text text-anchor=\"middle\" x=\"720.5\" y=\"-96.8\" font-family=\"Helvetica,sans-Serif\" font-size=\"14.00\">value = [84, 56]</text>\n",
       "</g>\n",
       "<!-- 9&#45;&gt;10 -->\n",
       "<g id=\"edge10\" class=\"edge\">\n",
       "<title>9&#45;&gt;10</title>\n",
       "<path fill=\"none\" stroke=\"black\" d=\"M782.38,-192.6C774.67,-184.06 766.29,-174.77 758.26,-165.86\"/>\n",
       "<polygon fill=\"black\" stroke=\"black\" points=\"761,-163.68 751.71,-158.6 755.8,-168.37 761,-163.68\"/>\n",
       "</g>\n",
       "<!-- 13 -->\n",
       "<g id=\"node14\" class=\"node\">\n",
       "<title>13</title>\n",
       "<polygon fill=\"none\" stroke=\"black\" points=\"989,-157 822,-157 822,-89 989,-89 989,-157\"/>\n",
       "<text text-anchor=\"middle\" x=\"905.5\" y=\"-141.8\" font-family=\"Helvetica,sans-Serif\" font-size=\"14.00\">hours&#45;per&#45;week &lt;= 31.0</text>\n",
       "<text text-anchor=\"middle\" x=\"905.5\" y=\"-126.8\" font-family=\"Helvetica,sans-Serif\" font-size=\"14.00\">gini = 0.409</text>\n",
       "<text text-anchor=\"middle\" x=\"905.5\" y=\"-111.8\" font-family=\"Helvetica,sans-Serif\" font-size=\"14.00\">samples = 1076</text>\n",
       "<text text-anchor=\"middle\" x=\"905.5\" y=\"-96.8\" font-family=\"Helvetica,sans-Serif\" font-size=\"14.00\">value = [308, 768]</text>\n",
       "</g>\n",
       "<!-- 9&#45;&gt;13 -->\n",
       "<g id=\"edge13\" class=\"edge\">\n",
       "<title>9&#45;&gt;13</title>\n",
       "<path fill=\"none\" stroke=\"black\" d=\"M842.95,-192.6C850.74,-184.06 859.21,-174.77 867.33,-165.86\"/>\n",
       "<polygon fill=\"black\" stroke=\"black\" points=\"869.81,-168.34 873.96,-158.59 864.64,-163.62 869.81,-168.34\"/>\n",
       "</g>\n",
       "<!-- 11 -->\n",
       "<g id=\"node12\" class=\"node\">\n",
       "<title>11</title>\n",
       "<polygon fill=\"none\" stroke=\"black\" points=\"673,-53 560,-53 560,0 673,0 673,-53\"/>\n",
       "<text text-anchor=\"middle\" x=\"616.5\" y=\"-37.8\" font-family=\"Helvetica,sans-Serif\" font-size=\"14.00\">gini = 0.417</text>\n",
       "<text text-anchor=\"middle\" x=\"616.5\" y=\"-22.8\" font-family=\"Helvetica,sans-Serif\" font-size=\"14.00\">samples = 81</text>\n",
       "<text text-anchor=\"middle\" x=\"616.5\" y=\"-7.8\" font-family=\"Helvetica,sans-Serif\" font-size=\"14.00\">value = [57, 24]</text>\n",
       "</g>\n",
       "<!-- 10&#45;&gt;11 -->\n",
       "<g id=\"edge11\" class=\"edge\">\n",
       "<title>10&#45;&gt;11</title>\n",
       "<path fill=\"none\" stroke=\"black\" d=\"M683.83,-88.68C673.97,-79.72 663.3,-70.03 653.43,-61.06\"/>\n",
       "<polygon fill=\"black\" stroke=\"black\" points=\"655.87,-58.55 646.12,-54.41 651.16,-63.73 655.87,-58.55\"/>\n",
       "</g>\n",
       "<!-- 12 -->\n",
       "<g id=\"node13\" class=\"node\">\n",
       "<title>12</title>\n",
       "<polygon fill=\"none\" stroke=\"black\" points=\"804,-53 691,-53 691,0 804,0 804,-53\"/>\n",
       "<text text-anchor=\"middle\" x=\"747.5\" y=\"-37.8\" font-family=\"Helvetica,sans-Serif\" font-size=\"14.00\">gini = 0.496</text>\n",
       "<text text-anchor=\"middle\" x=\"747.5\" y=\"-22.8\" font-family=\"Helvetica,sans-Serif\" font-size=\"14.00\">samples = 59</text>\n",
       "<text text-anchor=\"middle\" x=\"747.5\" y=\"-7.8\" font-family=\"Helvetica,sans-Serif\" font-size=\"14.00\">value = [27, 32]</text>\n",
       "</g>\n",
       "<!-- 10&#45;&gt;12 -->\n",
       "<g id=\"edge12\" class=\"edge\">\n",
       "<title>10&#45;&gt;12</title>\n",
       "<path fill=\"none\" stroke=\"black\" d=\"M730.02,-88.68C732.27,-80.81 734.68,-72.37 736.97,-64.35\"/>\n",
       "<polygon fill=\"black\" stroke=\"black\" points=\"740.3,-65.43 739.69,-54.85 733.57,-63.5 740.3,-65.43\"/>\n",
       "</g>\n",
       "<!-- 14 -->\n",
       "<g id=\"node15\" class=\"node\">\n",
       "<title>14</title>\n",
       "<polygon fill=\"none\" stroke=\"black\" points=\"935,-53 822,-53 822,0 935,0 935,-53\"/>\n",
       "<text text-anchor=\"middle\" x=\"878.5\" y=\"-37.8\" font-family=\"Helvetica,sans-Serif\" font-size=\"14.00\">gini = 0.455</text>\n",
       "<text text-anchor=\"middle\" x=\"878.5\" y=\"-22.8\" font-family=\"Helvetica,sans-Serif\" font-size=\"14.00\">samples = 80</text>\n",
       "<text text-anchor=\"middle\" x=\"878.5\" y=\"-7.8\" font-family=\"Helvetica,sans-Serif\" font-size=\"14.00\">value = [52, 28]</text>\n",
       "</g>\n",
       "<!-- 13&#45;&gt;14 -->\n",
       "<g id=\"edge14\" class=\"edge\">\n",
       "<title>13&#45;&gt;14</title>\n",
       "<path fill=\"none\" stroke=\"black\" d=\"M895.98,-88.68C893.73,-80.81 891.32,-72.37 889.03,-64.35\"/>\n",
       "<polygon fill=\"black\" stroke=\"black\" points=\"892.43,-63.5 886.31,-54.85 885.7,-65.43 892.43,-63.5\"/>\n",
       "</g>\n",
       "<!-- 15 -->\n",
       "<g id=\"node16\" class=\"node\">\n",
       "<title>15</title>\n",
       "<polygon fill=\"none\" stroke=\"black\" points=\"1083.5,-53 953.5,-53 953.5,0 1083.5,0 1083.5,-53\"/>\n",
       "<text text-anchor=\"middle\" x=\"1018.5\" y=\"-37.8\" font-family=\"Helvetica,sans-Serif\" font-size=\"14.00\">gini = 0.382</text>\n",
       "<text text-anchor=\"middle\" x=\"1018.5\" y=\"-22.8\" font-family=\"Helvetica,sans-Serif\" font-size=\"14.00\">samples = 996</text>\n",
       "<text text-anchor=\"middle\" x=\"1018.5\" y=\"-7.8\" font-family=\"Helvetica,sans-Serif\" font-size=\"14.00\">value = [256, 740]</text>\n",
       "</g>\n",
       "<!-- 13&#45;&gt;15 -->\n",
       "<g id=\"edge15\" class=\"edge\">\n",
       "<title>13&#45;&gt;15</title>\n",
       "<path fill=\"none\" stroke=\"black\" d=\"M945.34,-88.68C956.27,-79.54 968.11,-69.64 979.02,-60.51\"/>\n",
       "<polygon fill=\"black\" stroke=\"black\" points=\"980.95,-63.46 986.38,-54.36 976.46,-58.1 980.95,-63.46\"/>\n",
       "</g>\n",
       "<!-- 17 -->\n",
       "<g id=\"node18\" class=\"node\">\n",
       "<title>17</title>\n",
       "<polygon fill=\"none\" stroke=\"black\" points=\"1453.5,-261 1315.5,-261 1315.5,-193 1453.5,-193 1453.5,-261\"/>\n",
       "<text text-anchor=\"middle\" x=\"1384.5\" y=\"-245.8\" font-family=\"Helvetica,sans-Serif\" font-size=\"14.00\">education &lt;= 12.5</text>\n",
       "<text text-anchor=\"middle\" x=\"1384.5\" y=\"-230.8\" font-family=\"Helvetica,sans-Serif\" font-size=\"14.00\">gini = 0.089</text>\n",
       "<text text-anchor=\"middle\" x=\"1384.5\" y=\"-215.8\" font-family=\"Helvetica,sans-Serif\" font-size=\"14.00\">samples = 3480</text>\n",
       "<text text-anchor=\"middle\" x=\"1384.5\" y=\"-200.8\" font-family=\"Helvetica,sans-Serif\" font-size=\"14.00\">value = [3318, 162]</text>\n",
       "</g>\n",
       "<!-- 16&#45;&gt;17 -->\n",
       "<g id=\"edge17\" class=\"edge\">\n",
       "<title>16&#45;&gt;17</title>\n",
       "<path fill=\"none\" stroke=\"black\" d=\"M1384.5,-296.6C1384.5,-289.03 1384.5,-280.87 1384.5,-272.9\"/>\n",
       "<polygon fill=\"black\" stroke=\"black\" points=\"1388,-272.99 1384.5,-262.99 1381,-272.99 1388,-272.99\"/>\n",
       "</g>\n",
       "<!-- 24 -->\n",
       "<g id=\"node25\" class=\"node\">\n",
       "<title>24</title>\n",
       "<polygon fill=\"none\" stroke=\"black\" points=\"1842,-261 1711,-261 1711,-193 1842,-193 1842,-261\"/>\n",
       "<text text-anchor=\"middle\" x=\"1776.5\" y=\"-245.8\" font-family=\"Helvetica,sans-Serif\" font-size=\"14.00\">education &lt;= 14.5</text>\n",
       "<text text-anchor=\"middle\" x=\"1776.5\" y=\"-230.8\" font-family=\"Helvetica,sans-Serif\" font-size=\"14.00\">gini = 0.47</text>\n",
       "<text text-anchor=\"middle\" x=\"1776.5\" y=\"-215.8\" font-family=\"Helvetica,sans-Serif\" font-size=\"14.00\">samples = 225</text>\n",
       "<text text-anchor=\"middle\" x=\"1776.5\" y=\"-200.8\" font-family=\"Helvetica,sans-Serif\" font-size=\"14.00\">value = [140, 85]</text>\n",
       "</g>\n",
       "<!-- 16&#45;&gt;24 -->\n",
       "<g id=\"edge24\" class=\"edge\">\n",
       "<title>16&#45;&gt;24</title>\n",
       "<path fill=\"none\" stroke=\"black\" d=\"M1453.68,-312C1522.67,-294.05 1628.4,-266.54 1699.89,-247.93\"/>\n",
       "<polygon fill=\"black\" stroke=\"black\" points=\"1700.36,-251.43 1709.16,-245.52 1698.6,-244.65 1700.36,-251.43\"/>\n",
       "</g>\n",
       "<!-- 18 -->\n",
       "<g id=\"node19\" class=\"node\">\n",
       "<title>18</title>\n",
       "<polygon fill=\"none\" stroke=\"black\" points=\"1377.5,-157 1247.5,-157 1247.5,-89 1377.5,-89 1377.5,-157\"/>\n",
       "<text text-anchor=\"middle\" x=\"1312.5\" y=\"-141.8\" font-family=\"Helvetica,sans-Serif\" font-size=\"14.00\">age &lt;= 31.5</text>\n",
       "<text text-anchor=\"middle\" x=\"1312.5\" y=\"-126.8\" font-family=\"Helvetica,sans-Serif\" font-size=\"14.00\">gini = 0.059</text>\n",
       "<text text-anchor=\"middle\" x=\"1312.5\" y=\"-111.8\" font-family=\"Helvetica,sans-Serif\" font-size=\"14.00\">samples = 2909</text>\n",
       "<text text-anchor=\"middle\" x=\"1312.5\" y=\"-96.8\" font-family=\"Helvetica,sans-Serif\" font-size=\"14.00\">value = [2821, 88]</text>\n",
       "</g>\n",
       "<!-- 17&#45;&gt;18 -->\n",
       "<g id=\"edge18\" class=\"edge\">\n",
       "<title>17&#45;&gt;18</title>\n",
       "<path fill=\"none\" stroke=\"black\" d=\"M1360.92,-192.6C1355.08,-184.32 1348.74,-175.34 1342.63,-166.69\"/>\n",
       "<polygon fill=\"black\" stroke=\"black\" points=\"1345.63,-164.86 1337,-158.71 1339.91,-168.9 1345.63,-164.86\"/>\n",
       "</g>\n",
       "<!-- 21 -->\n",
       "<g id=\"node22\" class=\"node\">\n",
       "<title>21</title>\n",
       "<polygon fill=\"none\" stroke=\"black\" points=\"1517.5,-157 1395.5,-157 1395.5,-89 1517.5,-89 1517.5,-157\"/>\n",
       "<text text-anchor=\"middle\" x=\"1456.5\" y=\"-141.8\" font-family=\"Helvetica,sans-Serif\" font-size=\"14.00\">age &lt;= 29.5</text>\n",
       "<text text-anchor=\"middle\" x=\"1456.5\" y=\"-126.8\" font-family=\"Helvetica,sans-Serif\" font-size=\"14.00\">gini = 0.226</text>\n",
       "<text text-anchor=\"middle\" x=\"1456.5\" y=\"-111.8\" font-family=\"Helvetica,sans-Serif\" font-size=\"14.00\">samples = 571</text>\n",
       "<text text-anchor=\"middle\" x=\"1456.5\" y=\"-96.8\" font-family=\"Helvetica,sans-Serif\" font-size=\"14.00\">value = [497, 74]</text>\n",
       "</g>\n",
       "<!-- 17&#45;&gt;21 -->\n",
       "<g id=\"edge21\" class=\"edge\">\n",
       "<title>17&#45;&gt;21</title>\n",
       "<path fill=\"none\" stroke=\"black\" d=\"M1408.08,-192.6C1413.92,-184.32 1420.26,-175.34 1426.37,-166.69\"/>\n",
       "<polygon fill=\"black\" stroke=\"black\" points=\"1429.09,-168.9 1432,-158.71 1423.37,-164.86 1429.09,-168.9\"/>\n",
       "</g>\n",
       "<!-- 19 -->\n",
       "<g id=\"node20\" class=\"node\">\n",
       "<title>19</title>\n",
       "<polygon fill=\"none\" stroke=\"black\" points=\"1231.5,-53 1101.5,-53 1101.5,0 1231.5,0 1231.5,-53\"/>\n",
       "<text text-anchor=\"middle\" x=\"1166.5\" y=\"-37.8\" font-family=\"Helvetica,sans-Serif\" font-size=\"14.00\">gini = 0.014</text>\n",
       "<text text-anchor=\"middle\" x=\"1166.5\" y=\"-22.8\" font-family=\"Helvetica,sans-Serif\" font-size=\"14.00\">samples = 1583</text>\n",
       "<text text-anchor=\"middle\" x=\"1166.5\" y=\"-7.8\" font-family=\"Helvetica,sans-Serif\" font-size=\"14.00\">value = [1572, 11]</text>\n",
       "</g>\n",
       "<!-- 18&#45;&gt;19 -->\n",
       "<g id=\"edge19\" class=\"edge\">\n",
       "<title>18&#45;&gt;19</title>\n",
       "<path fill=\"none\" stroke=\"black\" d=\"M1261.03,-88.68C1246.34,-79.18 1230.39,-68.85 1215.84,-59.43\"/>\n",
       "<polygon fill=\"black\" stroke=\"black\" points=\"1218.07,-56.71 1207.78,-54.22 1214.27,-62.59 1218.07,-56.71\"/>\n",
       "</g>\n",
       "<!-- 20 -->\n",
       "<g id=\"node21\" class=\"node\">\n",
       "<title>20</title>\n",
       "<polygon fill=\"none\" stroke=\"black\" points=\"1379.5,-53 1249.5,-53 1249.5,0 1379.5,0 1379.5,-53\"/>\n",
       "<text text-anchor=\"middle\" x=\"1314.5\" y=\"-37.8\" font-family=\"Helvetica,sans-Serif\" font-size=\"14.00\">gini = 0.109</text>\n",
       "<text text-anchor=\"middle\" x=\"1314.5\" y=\"-22.8\" font-family=\"Helvetica,sans-Serif\" font-size=\"14.00\">samples = 1326</text>\n",
       "<text text-anchor=\"middle\" x=\"1314.5\" y=\"-7.8\" font-family=\"Helvetica,sans-Serif\" font-size=\"14.00\">value = [1249, 77]</text>\n",
       "</g>\n",
       "<!-- 18&#45;&gt;20 -->\n",
       "<g id=\"edge20\" class=\"edge\">\n",
       "<title>18&#45;&gt;20</title>\n",
       "<path fill=\"none\" stroke=\"black\" d=\"M1313.21,-88.68C1313.37,-80.99 1313.54,-72.76 1313.71,-64.9\"/>\n",
       "<polygon fill=\"black\" stroke=\"black\" points=\"1317.21,-64.98 1313.92,-54.91 1310.21,-64.83 1317.21,-64.98\"/>\n",
       "</g>\n",
       "<!-- 22 -->\n",
       "<g id=\"node23\" class=\"node\">\n",
       "<title>22</title>\n",
       "<polygon fill=\"none\" stroke=\"black\" points=\"1511,-53 1398,-53 1398,0 1511,0 1511,-53\"/>\n",
       "<text text-anchor=\"middle\" x=\"1454.5\" y=\"-37.8\" font-family=\"Helvetica,sans-Serif\" font-size=\"14.00\">gini = 0.056</text>\n",
       "<text text-anchor=\"middle\" x=\"1454.5\" y=\"-22.8\" font-family=\"Helvetica,sans-Serif\" font-size=\"14.00\">samples = 243</text>\n",
       "<text text-anchor=\"middle\" x=\"1454.5\" y=\"-7.8\" font-family=\"Helvetica,sans-Serif\" font-size=\"14.00\">value = [236, 7]</text>\n",
       "</g>\n",
       "<!-- 21&#45;&gt;22 -->\n",
       "<g id=\"edge22\" class=\"edge\">\n",
       "<title>21&#45;&gt;22</title>\n",
       "<path fill=\"none\" stroke=\"black\" d=\"M1455.79,-88.68C1455.63,-80.99 1455.46,-72.76 1455.29,-64.9\"/>\n",
       "<polygon fill=\"black\" stroke=\"black\" points=\"1458.79,-64.83 1455.08,-54.91 1451.79,-64.98 1458.79,-64.83\"/>\n",
       "</g>\n",
       "<!-- 23 -->\n",
       "<g id=\"node24\" class=\"node\">\n",
       "<title>23</title>\n",
       "<polygon fill=\"none\" stroke=\"black\" points=\"1651.5,-53 1529.5,-53 1529.5,0 1651.5,0 1651.5,-53\"/>\n",
       "<text text-anchor=\"middle\" x=\"1590.5\" y=\"-37.8\" font-family=\"Helvetica,sans-Serif\" font-size=\"14.00\">gini = 0.325</text>\n",
       "<text text-anchor=\"middle\" x=\"1590.5\" y=\"-22.8\" font-family=\"Helvetica,sans-Serif\" font-size=\"14.00\">samples = 328</text>\n",
       "<text text-anchor=\"middle\" x=\"1590.5\" y=\"-7.8\" font-family=\"Helvetica,sans-Serif\" font-size=\"14.00\">value = [261, 67]</text>\n",
       "</g>\n",
       "<!-- 21&#45;&gt;23 -->\n",
       "<g id=\"edge23\" class=\"edge\">\n",
       "<title>21&#45;&gt;23</title>\n",
       "<path fill=\"none\" stroke=\"black\" d=\"M1503.74,-88.68C1516.96,-79.36 1531.31,-69.24 1544.45,-59.97\"/>\n",
       "<polygon fill=\"black\" stroke=\"black\" points=\"1546.39,-62.89 1552.55,-54.27 1542.36,-57.17 1546.39,-62.89\"/>\n",
       "</g>\n",
       "<!-- 25 -->\n",
       "<g id=\"node26\" class=\"node\">\n",
       "<title>25</title>\n",
       "<polygon fill=\"none\" stroke=\"black\" points=\"1860,-157 1693,-157 1693,-89 1860,-89 1860,-157\"/>\n",
       "<text text-anchor=\"middle\" x=\"1776.5\" y=\"-141.8\" font-family=\"Helvetica,sans-Serif\" font-size=\"14.00\">hours&#45;per&#45;week &lt;= 44.0</text>\n",
       "<text text-anchor=\"middle\" x=\"1776.5\" y=\"-126.8\" font-family=\"Helvetica,sans-Serif\" font-size=\"14.00\">gini = 0.401</text>\n",
       "<text text-anchor=\"middle\" x=\"1776.5\" y=\"-111.8\" font-family=\"Helvetica,sans-Serif\" font-size=\"14.00\">samples = 155</text>\n",
       "<text text-anchor=\"middle\" x=\"1776.5\" y=\"-96.8\" font-family=\"Helvetica,sans-Serif\" font-size=\"14.00\">value = [112, 43]</text>\n",
       "</g>\n",
       "<!-- 24&#45;&gt;25 -->\n",
       "<g id=\"edge25\" class=\"edge\">\n",
       "<title>24&#45;&gt;25</title>\n",
       "<path fill=\"none\" stroke=\"black\" d=\"M1776.5,-192.6C1776.5,-185.03 1776.5,-176.87 1776.5,-168.9\"/>\n",
       "<polygon fill=\"black\" stroke=\"black\" points=\"1780,-168.99 1776.5,-158.99 1773,-168.99 1780,-168.99\"/>\n",
       "</g>\n",
       "<!-- 28 -->\n",
       "<g id=\"node29\" class=\"node\">\n",
       "<title>28</title>\n",
       "<polygon fill=\"none\" stroke=\"black\" points=\"2041,-157 1928,-157 1928,-89 2041,-89 2041,-157\"/>\n",
       "<text text-anchor=\"middle\" x=\"1984.5\" y=\"-141.8\" font-family=\"Helvetica,sans-Serif\" font-size=\"14.00\">age &lt;= 32.0</text>\n",
       "<text text-anchor=\"middle\" x=\"1984.5\" y=\"-126.8\" font-family=\"Helvetica,sans-Serif\" font-size=\"14.00\">gini = 0.48</text>\n",
       "<text text-anchor=\"middle\" x=\"1984.5\" y=\"-111.8\" font-family=\"Helvetica,sans-Serif\" font-size=\"14.00\">samples = 70</text>\n",
       "<text text-anchor=\"middle\" x=\"1984.5\" y=\"-96.8\" font-family=\"Helvetica,sans-Serif\" font-size=\"14.00\">value = [28, 42]</text>\n",
       "</g>\n",
       "<!-- 24&#45;&gt;28 -->\n",
       "<g id=\"edge28\" class=\"edge\">\n",
       "<title>24&#45;&gt;28</title>\n",
       "<path fill=\"none\" stroke=\"black\" d=\"M1842.31,-193.73C1866.26,-181.98 1893.36,-168.7 1917.42,-156.9\"/>\n",
       "<polygon fill=\"black\" stroke=\"black\" points=\"1918.73,-160.15 1926.17,-152.61 1915.65,-153.87 1918.73,-160.15\"/>\n",
       "</g>\n",
       "<!-- 26 -->\n",
       "<g id=\"node27\" class=\"node\">\n",
       "<title>26</title>\n",
       "<polygon fill=\"none\" stroke=\"black\" points=\"1783,-53 1670,-53 1670,0 1783,0 1783,-53\"/>\n",
       "<text text-anchor=\"middle\" x=\"1726.5\" y=\"-37.8\" font-family=\"Helvetica,sans-Serif\" font-size=\"14.00\">gini = 0.317</text>\n",
       "<text text-anchor=\"middle\" x=\"1726.5\" y=\"-22.8\" font-family=\"Helvetica,sans-Serif\" font-size=\"14.00\">samples = 96</text>\n",
       "<text text-anchor=\"middle\" x=\"1726.5\" y=\"-7.8\" font-family=\"Helvetica,sans-Serif\" font-size=\"14.00\">value = [77, 19]</text>\n",
       "</g>\n",
       "<!-- 25&#45;&gt;26 -->\n",
       "<g id=\"edge26\" class=\"edge\">\n",
       "<title>25&#45;&gt;26</title>\n",
       "<path fill=\"none\" stroke=\"black\" d=\"M1758.87,-88.68C1754.56,-80.54 1749.93,-71.79 1745.56,-63.52\"/>\n",
       "<polygon fill=\"black\" stroke=\"black\" points=\"1748.68,-61.93 1740.91,-54.73 1742.49,-65.21 1748.68,-61.93\"/>\n",
       "</g>\n",
       "<!-- 27 -->\n",
       "<g id=\"node28\" class=\"node\">\n",
       "<title>27</title>\n",
       "<polygon fill=\"none\" stroke=\"black\" points=\"1914,-53 1801,-53 1801,0 1914,0 1914,-53\"/>\n",
       "<text text-anchor=\"middle\" x=\"1857.5\" y=\"-37.8\" font-family=\"Helvetica,sans-Serif\" font-size=\"14.00\">gini = 0.483</text>\n",
       "<text text-anchor=\"middle\" x=\"1857.5\" y=\"-22.8\" font-family=\"Helvetica,sans-Serif\" font-size=\"14.00\">samples = 59</text>\n",
       "<text text-anchor=\"middle\" x=\"1857.5\" y=\"-7.8\" font-family=\"Helvetica,sans-Serif\" font-size=\"14.00\">value = [35, 24]</text>\n",
       "</g>\n",
       "<!-- 25&#45;&gt;27 -->\n",
       "<g id=\"edge27\" class=\"edge\">\n",
       "<title>25&#45;&gt;27</title>\n",
       "<path fill=\"none\" stroke=\"black\" d=\"M1805.06,-88.68C1812.5,-79.99 1820.54,-70.62 1828.04,-61.87\"/>\n",
       "<polygon fill=\"black\" stroke=\"black\" points=\"1830.47,-64.41 1834.32,-54.54 1825.15,-59.86 1830.47,-64.41\"/>\n",
       "</g>\n",
       "<!-- 29 -->\n",
       "<g id=\"node30\" class=\"node\">\n",
       "<title>29</title>\n",
       "<polygon fill=\"none\" stroke=\"black\" points=\"2037,-53 1932,-53 1932,0 2037,0 2037,-53\"/>\n",
       "<text text-anchor=\"middle\" x=\"1984.5\" y=\"-37.8\" font-family=\"Helvetica,sans-Serif\" font-size=\"14.00\">gini = 0.291</text>\n",
       "<text text-anchor=\"middle\" x=\"1984.5\" y=\"-22.8\" font-family=\"Helvetica,sans-Serif\" font-size=\"14.00\">samples = 17</text>\n",
       "<text text-anchor=\"middle\" x=\"1984.5\" y=\"-7.8\" font-family=\"Helvetica,sans-Serif\" font-size=\"14.00\">value = [14, 3]</text>\n",
       "</g>\n",
       "<!-- 28&#45;&gt;29 -->\n",
       "<g id=\"edge29\" class=\"edge\">\n",
       "<title>28&#45;&gt;29</title>\n",
       "<path fill=\"none\" stroke=\"black\" d=\"M1984.5,-88.68C1984.5,-80.99 1984.5,-72.76 1984.5,-64.9\"/>\n",
       "<polygon fill=\"black\" stroke=\"black\" points=\"1988,-64.91 1984.5,-54.91 1981,-64.91 1988,-64.91\"/>\n",
       "</g>\n",
       "<!-- 30 -->\n",
       "<g id=\"node31\" class=\"node\">\n",
       "<title>30</title>\n",
       "<polygon fill=\"none\" stroke=\"black\" points=\"2168,-53 2055,-53 2055,0 2168,0 2168,-53\"/>\n",
       "<text text-anchor=\"middle\" x=\"2111.5\" y=\"-37.8\" font-family=\"Helvetica,sans-Serif\" font-size=\"14.00\">gini = 0.389</text>\n",
       "<text text-anchor=\"middle\" x=\"2111.5\" y=\"-22.8\" font-family=\"Helvetica,sans-Serif\" font-size=\"14.00\">samples = 53</text>\n",
       "<text text-anchor=\"middle\" x=\"2111.5\" y=\"-7.8\" font-family=\"Helvetica,sans-Serif\" font-size=\"14.00\">value = [14, 39]</text>\n",
       "</g>\n",
       "<!-- 28&#45;&gt;30 -->\n",
       "<g id=\"edge30\" class=\"edge\">\n",
       "<title>28&#45;&gt;30</title>\n",
       "<path fill=\"none\" stroke=\"black\" d=\"M2029.28,-88.68C2041.68,-79.45 2055.13,-69.44 2067.5,-60.24\"/>\n",
       "<polygon fill=\"black\" stroke=\"black\" points=\"2069.55,-63.07 2075.49,-54.3 2065.37,-57.46 2069.55,-63.07\"/>\n",
       "</g>\n",
       "</g>\n",
       "</svg>\n"
      ],
      "text/plain": [
       "<graphviz.sources.Source at 0x2a3620b0fd0>"
      ]
     },
     "execution_count": 34,
     "metadata": {},
     "output_type": "execute_result"
    }
   ],
   "source": [
    "graphviz.Source(dot_graph)"
   ]
  },
  {
   "cell_type": "code",
   "execution_count": 35,
   "id": "34205d6d",
   "metadata": {},
   "outputs": [],
   "source": [
    "from sklearn import naive_bayes\n",
    "from sklearn.discriminant_analysis import LinearDiscriminantAnalysis"
   ]
  },
  {
   "cell_type": "code",
   "execution_count": 38,
   "id": "18889a27",
   "metadata": {},
   "outputs": [],
   "source": [
    "from sklearn import model_selection\n"
   ]
  },
  {
   "cell_type": "code",
   "execution_count": 37,
   "id": "e6680a0a",
   "metadata": {},
   "outputs": [
    {
     "name": "stdout",
     "output_type": "stream",
     "text": [
      "0.720547217425953\n",
      "0.7190653212958046\n"
     ]
    }
   ],
   "source": [
    "#d\n",
    "#csv_train, csv_test, csv_target_train, csv_target_test\n",
    "\n",
    "nbclf = naive_bayes.GaussianNB()\n",
    "nbclf = nbclf.fit(csv_train, csv_target_train.values.ravel())\n",
    "nbpreds_test = nbclf.predict(csv_test)\n",
    "print (nbclf.score(csv_train, csv_target_train))\n",
    "print (nbclf.score(csv_test, csv_target_test))"
   ]
  },
  {
   "cell_type": "code",
   "execution_count": 42,
   "id": "07a88b51",
   "metadata": {},
   "outputs": [],
   "source": [
    "Bayes_scores = model_selection.cross_val_score(nbclf, csv_train, csv_target_train.values.ravel(), cv=10)"
   ]
  },
  {
   "cell_type": "code",
   "execution_count": 44,
   "id": "3d0eb6a0",
   "metadata": {},
   "outputs": [
    {
     "name": "stdout",
     "output_type": "stream",
     "text": [
      "Overall Accuracy: 0.72 (+/- 0.02)\n"
     ]
    }
   ],
   "source": [
    "print(\"Overall Accuracy: %0.2f (+/- %0.2f)\" % (Bayes_scores.mean(), Bayes_scores.std() * 2))"
   ]
  },
  {
   "cell_type": "markdown",
   "id": "65a825da",
   "metadata": {},
   "source": [
    "The accuracy of the model for the training set was 0.720547217425953 which is very similar to the cross validation version 0.72 (+/- 0.02)"
   ]
  },
  {
   "cell_type": "code",
   "execution_count": 46,
   "id": "1bc8d037",
   "metadata": {},
   "outputs": [
    {
     "name": "stdout",
     "output_type": "stream",
     "text": [
      "0.8063487846991633\n",
      "0.8104089219330854\n"
     ]
    }
   ],
   "source": [
    "ldclf = LinearDiscriminantAnalysis()\n",
    "ldclf = ldclf.fit(csv_train, csv_target_train.values.ravel())\n",
    "ldpreds_test = ldclf.predict(csv_test)\n",
    "print (ldclf.score(csv_train, csv_target_train))\n",
    "\n",
    "print (ldclf.score(csv_test, csv_target_test))"
   ]
  },
  {
   "cell_type": "code",
   "execution_count": 47,
   "id": "daff7b69",
   "metadata": {},
   "outputs": [],
   "source": [
    "LDA_scores = model_selection.cross_val_score(ldclf, csv_train, csv_target_train.values.ravel(), cv=10)"
   ]
  },
  {
   "cell_type": "code",
   "execution_count": 48,
   "id": "1ec0e8fb",
   "metadata": {},
   "outputs": [
    {
     "name": "stdout",
     "output_type": "stream",
     "text": [
      "Overall Accuracy: 0.81 (+/- 0.03)\n"
     ]
    }
   ],
   "source": [
    "print(\"Overall Accuracy: %0.2f (+/- %0.2f)\" % (LDA_scores.mean(), LDA_scores.std() * 2))"
   ]
  },
  {
   "cell_type": "markdown",
   "id": "1717496d",
   "metadata": {},
   "source": [
    "The accuracy of the model for the training set was 0.8063487846991633 which is very similar to the cross validation version 0.81 (+/- 0.03)"
   ]
  }
 ],
 "metadata": {
  "kernelspec": {
   "display_name": "Python 3 (ipykernel)",
   "language": "python",
   "name": "python3"
  },
  "language_info": {
   "codemirror_mode": {
    "name": "ipython",
    "version": 3
   },
   "file_extension": ".py",
   "mimetype": "text/x-python",
   "name": "python",
   "nbconvert_exporter": "python",
   "pygments_lexer": "ipython3",
   "version": "3.11.1"
  }
 },
 "nbformat": 4,
 "nbformat_minor": 5
}
